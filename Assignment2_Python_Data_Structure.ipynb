{
  "nbformat": 4,
  "nbformat_minor": 0,
  "metadata": {
    "colab": {
      "provenance": []
    },
    "kernelspec": {
      "name": "python3",
      "display_name": "Python 3"
    },
    "language_info": {
      "name": "python"
    }
  },
  "cells": [
    {
      "cell_type": "markdown",
      "source": [
        "###1. Discuss string slicing and provide examples?"
      ],
      "metadata": {
        "id": "yD1MiJODhU3n"
      }
    },
    {
      "cell_type": "markdown",
      "source": [
        "String slicing is a powerful feature in Python that allows you to access a substring or a part of a string using a range of indices.The syntax for slicing is:\n",
        "\n",
        "string[start:end:step]\n",
        "\n",
        "start: The index where the slice starts (inclusive). If omitted, the slice starts from the beginning of the string.\n",
        "\n",
        "end: The index where the slice ends (exclusive). If omitted, the slice goes to the end of the string.\n",
        "\n",
        "step: The interval between each character in the slice. If omitted, it defaults to 1.\n"
      ],
      "metadata": {
        "id": "6CDcpy_QlEmv"
      }
    },
    {
      "cell_type": "code",
      "source": [
        "#Positive slicing (Starts from 0)\n",
        "a = \"Hello World!\"\n",
        "print(a[2:8])"
      ],
      "metadata": {
        "colab": {
          "base_uri": "https://localhost:8080/"
        },
        "id": "y_8lTTrqlQ1u",
        "outputId": "e959bd95-f0ae-4384-9ef8-17b3a50432d2"
      },
      "execution_count": 2,
      "outputs": [
        {
          "output_type": "stream",
          "name": "stdout",
          "text": [
            "llo Wo\n"
          ]
        }
      ]
    },
    {
      "cell_type": "code",
      "source": [
        "#Slice From the Start\n",
        "a = \"Hello World!\"\n",
        "print(a[:8])"
      ],
      "metadata": {
        "colab": {
          "base_uri": "https://localhost:8080/"
        },
        "id": "tyBSGrupl64v",
        "outputId": "3dee1d60-ae3f-4f53-eb9f-ad927a5d9329"
      },
      "execution_count": 3,
      "outputs": [
        {
          "output_type": "stream",
          "name": "stdout",
          "text": [
            "Hello Wo\n"
          ]
        }
      ]
    },
    {
      "cell_type": "code",
      "source": [
        "#Slice To the End\n",
        "a= \"Hello World!\"\n",
        "print(a[2:])"
      ],
      "metadata": {
        "colab": {
          "base_uri": "https://localhost:8080/"
        },
        "id": "6g3ba6VUmt-R",
        "outputId": "ad491ed0-8fce-4a9f-9b8f-53c4bc928287"
      },
      "execution_count": 5,
      "outputs": [
        {
          "output_type": "stream",
          "name": "stdout",
          "text": [
            "llo World!\n"
          ]
        }
      ]
    },
    {
      "cell_type": "code",
      "source": [
        "a = \"Python Programming\"\n",
        "print(a[0:11:2])"
      ],
      "metadata": {
        "colab": {
          "base_uri": "https://localhost:8080/"
        },
        "id": "xr1OJs-KpCTw",
        "outputId": "27ae3518-f9df-4944-eec7-4a63308236a1"
      },
      "execution_count": 13,
      "outputs": [
        {
          "output_type": "stream",
          "name": "stdout",
          "text": [
            "Pto rg\n"
          ]
        }
      ]
    },
    {
      "cell_type": "code",
      "source": [
        "#Negetive slicing (Starts from -1)\n",
        "a = \"Hello World!\"\n",
        "print(a[-9:-1])"
      ],
      "metadata": {
        "colab": {
          "base_uri": "https://localhost:8080/"
        },
        "id": "gO620LLYngXU",
        "outputId": "c7677f5d-289a-431b-baad-d890b2f10f92"
      },
      "execution_count": 8,
      "outputs": [
        {
          "output_type": "stream",
          "name": "stdout",
          "text": [
            "lo World\n"
          ]
        }
      ]
    },
    {
      "cell_type": "code",
      "source": [
        "#Slice From the Start\n",
        "a = \"Hello World!\"\n",
        "print(a[-8:])"
      ],
      "metadata": {
        "colab": {
          "base_uri": "https://localhost:8080/"
        },
        "id": "IlnUonQSoKHA",
        "outputId": "2f304aea-e8ff-4fec-a8d9-724803ab5c22"
      },
      "execution_count": 9,
      "outputs": [
        {
          "output_type": "stream",
          "name": "stdout",
          "text": [
            "o World!\n"
          ]
        }
      ]
    },
    {
      "cell_type": "code",
      "source": [
        "#Slice To the End\n",
        "a= \"Hello World!\"\n",
        "print(a[:-3])"
      ],
      "metadata": {
        "colab": {
          "base_uri": "https://localhost:8080/"
        },
        "id": "GagqyI5XoU66",
        "outputId": "420fbe3c-bf5f-4551-9259-45399fc75030"
      },
      "execution_count": 10,
      "outputs": [
        {
          "output_type": "stream",
          "name": "stdout",
          "text": [
            "Hello Wor\n"
          ]
        }
      ]
    },
    {
      "cell_type": "markdown",
      "source": [
        "###2. Explain the key features of lists in Python?"
      ],
      "metadata": {
        "id": "EiQA9wpcpN4o"
      }
    },
    {
      "cell_type": "markdown",
      "source": [
        "Lists in Python are one of the most commonly used data structures, providing a flexible way to store an ordered collection of items.\n",
        "\n",
        "***Features Of Lists***\n",
        "\n",
        "**(i) Ordered Collection:-** Lists maintain the order of elements. The elements in a list have a defined sequence, and each element can be accessed using its index.\n",
        "\n",
        "**(ii) Mutable:-** Lists are mutable, meaning you can modify their contents (i.e., add, remove, or change elements) after they are created.\n",
        "\n",
        "**(iii) Dynamic Size:-** Lists in Python can grow or shrink as needed. You can append or remove items dynamically.\n",
        "\n",
        "**(iv) Heterogeneous Elements:-** A list can contain elements of different data types (e.g., integers, strings, objects).\n",
        "\n",
        "**(v) Indexing and Slicing:-** Lists support indexing to access individual elements, and slicing to access a range of elements.\n",
        "\n",
        "**(vi) Built-in Methods:-** Python provides many useful built-in methods for working with lists, such as append(), extend(), insert(), remove(), pop(), sort(), reverse(), and more.\n",
        "\n",
        "**(vii) Nested Lists:-** Lists can contain other lists, allowing you to create multi-dimensional arrays (e.g., matrices).\n",
        "\n",
        "**(viii) Iteration:-** You can iterate over the elements of a list using loops.\n"
      ],
      "metadata": {
        "id": "tTktzueoqdke"
      }
    },
    {
      "cell_type": "markdown",
      "source": [
        "###3. Describe how to access, modify and delete elements in a list with examples?"
      ],
      "metadata": {
        "id": "Uen-KUfSseAa"
      }
    },
    {
      "cell_type": "markdown",
      "source": [
        "**-> Accessing Elements in a List:-** You can access elements in a list using their indices. Python uses zero-based indexing, so the first element has an index of 0, the second element has an index of 1, and so on."
      ],
      "metadata": {
        "id": "Qp7jezbgH1zk"
      }
    },
    {
      "cell_type": "code",
      "source": [
        "# Accessing by Positive Index\n",
        "fruits = [\"apple\", \"banana\", \"cherry\"]\n",
        "print(fruits[0])\n",
        "print(fruits[2])"
      ],
      "metadata": {
        "colab": {
          "base_uri": "https://localhost:8080/"
        },
        "id": "8J7uipohIFii",
        "outputId": "f399c730-78ed-49c0-9083-b837ee1f8e73"
      },
      "execution_count": 1,
      "outputs": [
        {
          "output_type": "stream",
          "name": "stdout",
          "text": [
            "apple\n",
            "cherry\n"
          ]
        }
      ]
    },
    {
      "cell_type": "code",
      "source": [
        "# Accessing by Negative Index\n",
        "fruits = [\"apple\", \"banana\", \"cherry\"]\n",
        "print(fruits[-1])\n",
        "print(fruits[-2])"
      ],
      "metadata": {
        "colab": {
          "base_uri": "https://localhost:8080/"
        },
        "id": "t9WDiwdZIbcU",
        "outputId": "c725b290-3357-490e-cb49-88378d3bb000"
      },
      "execution_count": 2,
      "outputs": [
        {
          "output_type": "stream",
          "name": "stdout",
          "text": [
            "cherry\n",
            "banana\n"
          ]
        }
      ]
    },
    {
      "cell_type": "code",
      "source": [
        "# Accessing with Slicing\n",
        "fruits = [\"apple\", \"banana\", \"cherry\", \"date\"]\n",
        "print(fruits[1:3])\n",
        "print(fruits[:2])\n",
        "print(fruits[2:])"
      ],
      "metadata": {
        "colab": {
          "base_uri": "https://localhost:8080/"
        },
        "id": "XdybdOBCIp92",
        "outputId": "7e83c03b-125f-4a35-8dd4-0765d3df93d0"
      },
      "execution_count": 3,
      "outputs": [
        {
          "output_type": "stream",
          "name": "stdout",
          "text": [
            "['banana', 'cherry']\n",
            "['apple', 'banana']\n",
            "['cherry', 'date']\n"
          ]
        }
      ]
    },
    {
      "cell_type": "markdown",
      "source": [
        "**-> Modifying Elements in a List:-** Lists in Python are mutable, meaning you can change their elements."
      ],
      "metadata": {
        "id": "Mzz6nXpLJAf2"
      }
    },
    {
      "cell_type": "code",
      "source": [
        "# Modifying a Single Element\n",
        "fruits = [\"apple\", \"banana\", \"cherry\"]\n",
        "fruits[1] = \"blueberry\"\n",
        "print(fruits)"
      ],
      "metadata": {
        "colab": {
          "base_uri": "https://localhost:8080/"
        },
        "id": "8VGjR7ZTJQjr",
        "outputId": "dd42e8a7-67fb-4357-d1ad-531cf9f5212e"
      },
      "execution_count": 4,
      "outputs": [
        {
          "output_type": "stream",
          "name": "stdout",
          "text": [
            "['apple', 'blueberry', 'cherry']\n"
          ]
        }
      ]
    },
    {
      "cell_type": "code",
      "source": [
        "# Modifying a Range of Elements\n",
        "fruits = [\"apple\", \"banana\", \"cherry\", \"date\"]\n",
        "fruits[1:3] = [\"blackberry\", \"grape\"]\n",
        "print(fruits)"
      ],
      "metadata": {
        "colab": {
          "base_uri": "https://localhost:8080/"
        },
        "id": "hgOnt4LyJizR",
        "outputId": "74c54a5c-9ccb-49f1-a377-290f0c6f0468"
      },
      "execution_count": 5,
      "outputs": [
        {
          "output_type": "stream",
          "name": "stdout",
          "text": [
            "['apple', 'blackberry', 'grape', 'date']\n"
          ]
        }
      ]
    },
    {
      "cell_type": "code",
      "source": [
        "# Inserting Elements with insert method\n",
        "fruits = [\"apple\", \"banana\", \"cherry\"]\n",
        "fruits.insert(1, \"blueberry\")\n",
        "print(fruits)"
      ],
      "metadata": {
        "colab": {
          "base_uri": "https://localhost:8080/"
        },
        "id": "uCGUgWq1JuMc",
        "outputId": "41330869-49cd-4ceb-f059-c4fd7dc6d9f8"
      },
      "execution_count": 6,
      "outputs": [
        {
          "output_type": "stream",
          "name": "stdout",
          "text": [
            "['apple', 'blueberry', 'banana', 'cherry']\n"
          ]
        }
      ]
    },
    {
      "cell_type": "code",
      "source": [
        "# Appending Elements\n",
        "fruits = [\"apple\", \"banana\"]\n",
        "fruits.append(\"cherry\")\n",
        "print(fruits)"
      ],
      "metadata": {
        "colab": {
          "base_uri": "https://localhost:8080/"
        },
        "id": "EYrMMPJpJ4Nv",
        "outputId": "ff1099be-bc1c-4b7c-a440-5bf7ba6ef145"
      },
      "execution_count": 7,
      "outputs": [
        {
          "output_type": "stream",
          "name": "stdout",
          "text": [
            "['apple', 'banana', 'cherry']\n"
          ]
        }
      ]
    },
    {
      "cell_type": "code",
      "source": [
        "# Extending a List with Another List\n",
        "fruits = [\"apple\", \"banana\"]\n",
        "fruits.extend([\"cherry\", \"date\"])\n",
        "print(fruits)"
      ],
      "metadata": {
        "colab": {
          "base_uri": "https://localhost:8080/"
        },
        "id": "DT3ZXxhuKny8",
        "outputId": "313157e8-4092-4653-e8e3-b5f2d9ac75a6"
      },
      "execution_count": 8,
      "outputs": [
        {
          "output_type": "stream",
          "name": "stdout",
          "text": [
            "['apple', 'banana', 'cherry', 'date']\n"
          ]
        }
      ]
    },
    {
      "cell_type": "markdown",
      "source": [
        "**-> Deleting Elements from a List:-** You can remove elements from a list using various methods like del, pop(), and remove()."
      ],
      "metadata": {
        "id": "APJsASzRK1NH"
      }
    },
    {
      "cell_type": "code",
      "source": [
        "# Using del Statement\n",
        "fruits = [\"apple\", \"banana\", \"cherry\"]\n",
        "del fruits[1]\n",
        "print(fruits)"
      ],
      "metadata": {
        "colab": {
          "base_uri": "https://localhost:8080/"
        },
        "id": "Cq-sJwdKK9Xi",
        "outputId": "2459b462-3dbd-4a03-e567-943e2c9eae11"
      },
      "execution_count": 9,
      "outputs": [
        {
          "output_type": "stream",
          "name": "stdout",
          "text": [
            "['apple', 'cherry']\n"
          ]
        }
      ]
    },
    {
      "cell_type": "code",
      "source": [
        "# Using pop() Method\n",
        "fruits = [\"apple\", \"banana\", \"cherry\"]\n",
        "fruits.pop(1)\n",
        "print(fruits)"
      ],
      "metadata": {
        "colab": {
          "base_uri": "https://localhost:8080/"
        },
        "id": "xz4eYQdGLEwn",
        "outputId": "39c6aad2-9cc0-442a-82d2-629747136434"
      },
      "execution_count": 10,
      "outputs": [
        {
          "output_type": "stream",
          "name": "stdout",
          "text": [
            "['apple', 'cherry']\n"
          ]
        }
      ]
    },
    {
      "cell_type": "code",
      "source": [
        "# Using remove() Method\n",
        "fruits = [\"apple\", \"banana\", \"cherry\"]\n",
        "fruits.remove(\"cherry\")\n",
        "print(fruits)"
      ],
      "metadata": {
        "colab": {
          "base_uri": "https://localhost:8080/"
        },
        "id": "17KgwArnLPVS",
        "outputId": "864df0bd-4158-4280-f7df-f13b026e2f78"
      },
      "execution_count": 11,
      "outputs": [
        {
          "output_type": "stream",
          "name": "stdout",
          "text": [
            "['apple', 'banana']\n"
          ]
        }
      ]
    },
    {
      "cell_type": "code",
      "source": [
        "# Clearing All Elements from a List\n",
        "fruits = [\"apple\", \"banana\", \"cherry\"]\n",
        "fruits.clear()\n",
        "print(fruits)"
      ],
      "metadata": {
        "colab": {
          "base_uri": "https://localhost:8080/"
        },
        "id": "n2-Rvs3KLXm_",
        "outputId": "8f18eb02-ea9c-4cc7-8b6e-21f5c9bef9fe"
      },
      "execution_count": 12,
      "outputs": [
        {
          "output_type": "stream",
          "name": "stdout",
          "text": [
            "[]\n"
          ]
        }
      ]
    },
    {
      "cell_type": "markdown",
      "source": [
        "###4. Compare and contrast tuples and lists with examples?"
      ],
      "metadata": {
        "id": "pffqcbtV4r29"
      }
    },
    {
      "cell_type": "markdown",
      "source": [
        "**-> Tuples:-** Tuples are immutable, meaning that once a tuple is created, its elements cannot be modified, added, or removed.\n",
        "\n",
        "Tuples are defined using parentheses ().\n",
        "\n",
        "Tuples are generally faster and more memory-efficient than lists due to their immutability. If you have a collection of items that won't change, using a tuple can be more efficient.\n",
        "\n",
        "Tuples have very few methods, primarily count() and index(), since they are immutable.\n",
        "\n",
        "Tuples have a fixed size. Once a tuple is created, you cannot change its size.\n",
        "\n",
        "Tuples' immutability makes them safer to use as keys in dictionaries or as elements of sets, and they ensure that the data remains unchanged.\n",
        "\n",
        "Tuples are commonly used in packing and unpacking values in Python functions."
      ],
      "metadata": {
        "id": "VKP1Uk674wQJ"
      }
    },
    {
      "cell_type": "code",
      "source": [
        "# This would raise a TypeError\n",
        "fruits_tuple = (\"apple\", \"banana\", \"cherry\")\n",
        "fruits_tuple[1] = \"blueberry\""
      ],
      "metadata": {
        "colab": {
          "base_uri": "https://localhost:8080/",
          "height": 166
        },
        "id": "c_mEW6AR518Z",
        "outputId": "39b4431a-b673-440c-e61f-f541a2d59b56"
      },
      "execution_count": 2,
      "outputs": [
        {
          "output_type": "error",
          "ename": "TypeError",
          "evalue": "'tuple' object does not support item assignment",
          "traceback": [
            "\u001b[0;31m---------------------------------------------------------------------------\u001b[0m",
            "\u001b[0;31mTypeError\u001b[0m                                 Traceback (most recent call last)",
            "\u001b[0;32m<ipython-input-2-94fd9248e8d2>\u001b[0m in \u001b[0;36m<cell line: 2>\u001b[0;34m()\u001b[0m\n\u001b[1;32m      1\u001b[0m \u001b[0mfruits_tuple\u001b[0m \u001b[0;34m=\u001b[0m \u001b[0;34m(\u001b[0m\u001b[0;34m\"apple\"\u001b[0m\u001b[0;34m,\u001b[0m \u001b[0;34m\"banana\"\u001b[0m\u001b[0;34m,\u001b[0m \u001b[0;34m\"cherry\"\u001b[0m\u001b[0;34m)\u001b[0m\u001b[0;34m\u001b[0m\u001b[0;34m\u001b[0m\u001b[0m\n\u001b[0;32m----> 2\u001b[0;31m \u001b[0mfruits_tuple\u001b[0m\u001b[0;34m[\u001b[0m\u001b[0;36m1\u001b[0m\u001b[0;34m]\u001b[0m \u001b[0;34m=\u001b[0m \u001b[0;34m\"blueberry\"\u001b[0m\u001b[0;34m\u001b[0m\u001b[0;34m\u001b[0m\u001b[0m\n\u001b[0m",
            "\u001b[0;31mTypeError\u001b[0m: 'tuple' object does not support item assignment"
          ]
        }
      ]
    },
    {
      "cell_type": "code",
      "source": [
        "fruits = ('apples', 'bananas', 'grapes', 'mangoes')\n",
        "print(fruits)"
      ],
      "metadata": {
        "colab": {
          "base_uri": "https://localhost:8080/"
        },
        "id": "wQ3HV5yC54IW",
        "outputId": "711280fb-8908-43d3-f0f9-074ea9ec802c"
      },
      "execution_count": 4,
      "outputs": [
        {
          "output_type": "stream",
          "name": "stdout",
          "text": [
            "('apples', 'bananas', 'grapes', 'mangoes')\n"
          ]
        }
      ]
    },
    {
      "cell_type": "markdown",
      "source": [
        "**-> Lists:-** Lists are mutable, which means you can modify, add, or remove elements after the list is created.\n",
        "\n",
        "Lists are defined using square brackets [].\n",
        "\n",
        "Because lists are mutable, they have more overhead associated with memory management. Operations like adding or removing elements can be slower compared to tuples.\n",
        "\n",
        "Lists have a wide range of methods available for modification, such as append(), remove(), pop(), extend(), sort(), etc.\n",
        "\n",
        "Since lists are mutable, they can change in size, and Python allows adding or removing elements dynamically.\n",
        "\n",
        "Because lists are mutable, they are more prone to unintended changes, especially when passed to functions or shared across different parts of a program.\n",
        "\n",
        "Both lists and tuples support packing and unpacking, but tuples are often used when returning multiple values from a function.\n",
        "\n",
        "You can iterate over both lists and tuples, but due to the immutable nature of tuples, iteration is slightly faster with tuples."
      ],
      "metadata": {
        "id": "o9S9oVkB7gLl"
      }
    },
    {
      "cell_type": "code",
      "source": [
        "fruits = ['apples', 'bananas', 'grapes', 'mangoes']\n",
        "print(fruits)"
      ],
      "metadata": {
        "colab": {
          "base_uri": "https://localhost:8080/"
        },
        "id": "EPl-OBjl8Fmv",
        "outputId": "ec771180-0115-4ee8-8f5c-3446087d1916"
      },
      "execution_count": 5,
      "outputs": [
        {
          "output_type": "stream",
          "name": "stdout",
          "text": [
            "['apples', 'bananas', 'grapes', 'mangoes']\n"
          ]
        }
      ]
    },
    {
      "cell_type": "code",
      "source": [
        "fruits = [\"apple\", \"banana\", \"cherry\"]\n",
        "print(fruits[0])\n",
        "print(fruits[2])"
      ],
      "metadata": {
        "colab": {
          "base_uri": "https://localhost:8080/"
        },
        "id": "RscqMfu68OLy",
        "outputId": "0de1bce9-ba14-4dfb-d4f4-18dcb7be507f"
      },
      "execution_count": 6,
      "outputs": [
        {
          "output_type": "stream",
          "name": "stdout",
          "text": [
            "apple\n",
            "cherry\n"
          ]
        }
      ]
    },
    {
      "cell_type": "markdown",
      "source": [
        "###5. Describe the key features of sets and provide examples?"
      ],
      "metadata": {
        "id": "y3NSOOCbAeHG"
      }
    },
    {
      "cell_type": "markdown",
      "source": [
        "Sets in Python are a powerful data structure used to store unordered collections of unique elements. They are particularly useful when you need to eliminate duplicates and perform mathematical operations like unions, intersections, and differences.\n",
        "\n",
        "***Features Of Sets***\n",
        "\n",
        "(i) **Unordered Collection:-** Sets are unordered, meaning the elements do not have a specific order, and you cannot access elements by index.\n",
        "\n",
        "(ii) **Unique Elements:-** Sets automatically eliminate duplicate elements, so each element in a set is unique.\n",
        "\n",
        "(iii) **Mutable (But Elements Must Be Immutable):-** Sets themselves are mutable, meaning you can add or remove elements. However, the elements within the set must be immutable (e.g., integers, strings, tuples).\n",
        "\n",
        "(iv) **No Duplicates:-** Sets do not allow duplicate elements, making them useful for filtering out duplicates from a list or collection.\n",
        "\n",
        "(v) **Set Operations:-** Sets support standard mathematical operations like union, intersection, difference, and symmetric difference.\n",
        "\n",
        "(vi) **Mutable Set Methods:-** Sets provide methods to modify the set in place, such as add(), remove(), discard(), pop(), and clear().\n",
        "\n",
        "(vii) **Frozen Sets (Immutable Sets):-** If you need an immutable version of a set, you can use a frozenset. A frozenset is like a set, but it cannot be modified (no add() or remove() methods)."
      ],
      "metadata": {
        "id": "bMjxa6g_AtcN"
      }
    },
    {
      "cell_type": "code",
      "source": [
        "numbers = {1, 2, 3, 3, 4, 4, 5}\n",
        "print(numbers)"
      ],
      "metadata": {
        "colab": {
          "base_uri": "https://localhost:8080/"
        },
        "id": "JH466AG6DQUo",
        "outputId": "97666f87-8f5c-449b-ce6d-919f5a4d0ae7"
      },
      "execution_count": 7,
      "outputs": [
        {
          "output_type": "stream",
          "name": "stdout",
          "text": [
            "{1, 2, 3, 4, 5}\n"
          ]
        }
      ]
    },
    {
      "cell_type": "code",
      "source": [
        "# Mutable But Elements Must Be Immutable\n",
        "fruits = {\"apple\", \"banana\"}\n",
        "fruits.add(\"cherry\")\n",
        "print(fruits)"
      ],
      "metadata": {
        "colab": {
          "base_uri": "https://localhost:8080/"
        },
        "id": "KWqjBmuODppG",
        "outputId": "4ddc50cb-c0e0-4a41-94c0-d24bf60d0b6d"
      },
      "execution_count": 8,
      "outputs": [
        {
          "output_type": "stream",
          "name": "stdout",
          "text": [
            "{'cherry', 'apple', 'banana'}\n"
          ]
        }
      ]
    },
    {
      "cell_type": "code",
      "source": [
        "# Union of sets\n",
        "set_a = {1, 2, 3}\n",
        "set_b = {3, 4, 5}\n",
        "print(set_a | set_b)"
      ],
      "metadata": {
        "colab": {
          "base_uri": "https://localhost:8080/"
        },
        "id": "PEg_5sQrEAHC",
        "outputId": "fb53f16b-e3b0-4526-89a3-457f3905260e"
      },
      "execution_count": 9,
      "outputs": [
        {
          "output_type": "stream",
          "name": "stdout",
          "text": [
            "{1, 2, 3, 4, 5}\n"
          ]
        }
      ]
    },
    {
      "cell_type": "markdown",
      "source": [
        "###6. Discuss the use cases of tuples and sets in Python programming?"
      ],
      "metadata": {
        "id": "4PGBX6XsEumj"
      }
    },
    {
      "cell_type": "markdown",
      "source": [
        "Tuples and sets in Python are both important data structures, and they each have specific use cases where they shine.\n",
        "\n",
        "***Use Cases for Tuples***\n",
        "\n",
        "(i) **Fixed Data Collections:-** Tuples are ideal for representing collections of items that should not change during the execution of a program.\n",
        "\n",
        "(ii) **Returning Multiple Values from Functions:-** When you need to return more than one value from a function, using a tuple allows you to group multiple values together without needing to create a custom object.\n",
        "\n",
        "(iii) **Immutable Data:-** Tuples are useful when you need a collection of elements that should not change, ensuring data integrity and avoiding accidental modifications.\n",
        "\n",
        "(iv) **Using Tuples in Set Operations:-** Since tuples are hashable, they can be used as elements of a set, enabling the storage of unique collections of immutable sequences.\n",
        "\n",
        "(v) **Function Arguments:-** Tuples are used to pass a fixed number of arguments to a function in a clean and organized way, especially in scenarios like variable-length arguments (*args).\n",
        "\n",
        "***Use Cases for Sets***\n",
        "\n",
        "(i) **Use Cases for Sets:-** Sets are ideal for eliminating duplicates from a collection of items, such as a list, ensuring that all elements are unique.\n",
        "\n",
        "(ii) **Mathematical Set Operations:-** Sets are perfect for performing mathematical set operations like union, intersection, difference, and symmetric difference, which are useful in data analysis, filtering, and combining data.\n",
        "\n",
        "(iii) **Removing Duplicates While Preserving Order:-** Although sets are unordered, you can combine them with other data structures to remove duplicates while preserving the order of elements.\n",
        "\n",
        "(iv) **Counting Unique Elements:-** Sets can be used to quickly count the number of unique elements in a collection.\n",
        "\n",
        "(v) **Set Operations in Data Analysis:-** Sets are often used in data analysis to find common or unique elements between datasets, filter out duplicates, or compare different sets of data."
      ],
      "metadata": {
        "id": "Mi3NXf6VEzPe"
      }
    },
    {
      "cell_type": "markdown",
      "source": [
        "###7. Describe how to add, modify and delete items in a dictionary with examples?"
      ],
      "metadata": {
        "id": "l0GcH8tYIIJk"
      }
    },
    {
      "cell_type": "markdown",
      "source": [
        "Dictionaries are mutable, meaning you can add, modify, and delete items. A dictionary stores data in key-value pairs, where each key is unique, and the value can be any data type."
      ],
      "metadata": {
        "id": "XQjxtZkwM7JD"
      }
    },
    {
      "cell_type": "markdown",
      "source": [
        "**-> Adding Items to a Dictionary:-** You can add new key-value pairs to a dictionary by simply assigning a value to a new key."
      ],
      "metadata": {
        "id": "uUUncvKKNXFV"
      }
    },
    {
      "cell_type": "code",
      "source": [
        "# Create an empty dictionary\n",
        "Student = {}\n",
        "Student[\"Name\"] = \"Amit\"\n",
        "Student[\"age\"] = 25\n",
        "Student[\"City\"] = \"Delhi\"\n",
        "Student[\"Language\"] = \"Python\"\n",
        "print(Student)"
      ],
      "metadata": {
        "colab": {
          "base_uri": "https://localhost:8080/"
        },
        "id": "sSNWEs7XNiJ9",
        "outputId": "04d7194d-fff9-4afd-c371-637e6a3ec337"
      },
      "execution_count": 17,
      "outputs": [
        {
          "output_type": "stream",
          "name": "stdout",
          "text": [
            "{'Name': 'Amit', 'age': 25, 'City': 'Delhi', 'Language': 'Python'}\n"
          ]
        }
      ]
    },
    {
      "cell_type": "markdown",
      "source": [
        "**-> Modifying Items in a Dictionary:-** You can modify the value associated with an existing key by reassigning it."
      ],
      "metadata": {
        "id": "MkKi8KCSOrRK"
      }
    },
    {
      "cell_type": "code",
      "source": [
        "# Modify an existing value\n",
        "Student = {}\n",
        "Student[\"Name\"] = \"Amit\"\n",
        "Student[\"Age\"] = 25\n",
        "Student[\"City\"] = \"Delhi\"\n",
        "Student[\"Language\"] = \"Python\"\n",
        "print(Student)\n",
        "Student.update({\"City\": \"Mumbai\", \"University\": \"MK University\"})\n",
        "print(Student)"
      ],
      "metadata": {
        "colab": {
          "base_uri": "https://localhost:8080/"
        },
        "id": "bcYWYI_bO0pI",
        "outputId": "81e8d8df-766b-40b0-c955-eac5081339de"
      },
      "execution_count": 16,
      "outputs": [
        {
          "output_type": "stream",
          "name": "stdout",
          "text": [
            "{'Name': 'Amit', 'Age': 25, 'City': 'Delhi', 'Language': 'Python'}\n",
            "{'Name': 'Amit', 'Age': 25, 'City': 'Mumbai', 'Language': 'Python', 'University': 'MK University'}\n"
          ]
        }
      ]
    },
    {
      "cell_type": "markdown",
      "source": [
        "**-> Deleting Items from a Dictionary:-** There are several ways to remove items from a dictionary, depending on what you want to achieve."
      ],
      "metadata": {
        "id": "MpWmmQiwQxN_"
      }
    },
    {
      "cell_type": "code",
      "source": [
        "# Using the del Statement\n",
        "Student = {}\n",
        "Student[\"Name\"] = \"Amit\"\n",
        "Student[\"Age\"] = 25\n",
        "Student[\"City\"] = \"Delhi\"\n",
        "Student[\"Language\"] = \"Python\"\n",
        "print(Student)\n",
        "del Student[\"City\"]\n",
        "print(Student)"
      ],
      "metadata": {
        "colab": {
          "base_uri": "https://localhost:8080/"
        },
        "id": "zSKul1dpQ7D4",
        "outputId": "0c06be8b-9649-4b91-82a2-e1b02b434f9e"
      },
      "execution_count": 23,
      "outputs": [
        {
          "output_type": "stream",
          "name": "stdout",
          "text": [
            "{'Name': 'Amit', 'Age': 25, 'City': 'Delhi', 'Language': 'Python'}\n",
            "{'Name': 'Amit', 'Age': 25, 'Language': 'Python'}\n"
          ]
        }
      ]
    },
    {
      "cell_type": "code",
      "source": [
        "# Using the pop() Method\n",
        "Student = {}\n",
        "Student[\"Name\"] = \"Amit\"\n",
        "Student[\"Age\"] = 25\n",
        "Student[\"City\"] = \"Delhi\"\n",
        "Student[\"Language\"] = \"Python\"\n",
        "Student[\"University\"] = \"MK University\"\n",
        "print(Student)\n",
        "Student.pop(\"University\")\n",
        "print(Student)"
      ],
      "metadata": {
        "colab": {
          "base_uri": "https://localhost:8080/"
        },
        "id": "xC85MytIRrO0",
        "outputId": "168f7168-c042-4b69-84e9-fccb8539c8de"
      },
      "execution_count": 25,
      "outputs": [
        {
          "output_type": "stream",
          "name": "stdout",
          "text": [
            "{'Name': 'Amit', 'Age': 25, 'City': 'Delhi', 'Language': 'Python', 'University': 'MK University'}\n",
            "{'Name': 'Amit', 'Age': 25, 'City': 'Delhi', 'Language': 'Python'}\n"
          ]
        }
      ]
    },
    {
      "cell_type": "code",
      "source": [
        "# Using the clear() Method\n",
        "Student = {}\n",
        "Student[\"Name\"] = \"Amit\"\n",
        "Student[\"Age\"] = 25\n",
        "Student[\"City\"] = \"Delhi\"\n",
        "Student[\"Language\"] = \"Python\"\n",
        "print(Student)\n",
        "Student.clear()\n",
        "print(Student)"
      ],
      "metadata": {
        "colab": {
          "base_uri": "https://localhost:8080/"
        },
        "id": "n1Yg63HASACM",
        "outputId": "7ad5acc7-2490-4e96-b20a-9d58115d3039"
      },
      "execution_count": 26,
      "outputs": [
        {
          "output_type": "stream",
          "name": "stdout",
          "text": [
            "{'Name': 'Amit', 'Age': 25, 'City': 'Delhi', 'Language': 'Python'}\n",
            "{}\n"
          ]
        }
      ]
    },
    {
      "cell_type": "markdown",
      "source": [
        "###8. Discuss the importance of dictionary keys being immutable and provide example?"
      ],
      "metadata": {
        "id": "vHqeyVpaS3XW"
      }
    },
    {
      "cell_type": "markdown",
      "source": [
        "Dictionary keys must be immutable. This means that the data type of the key cannot change after it is created. The immutability of dictionary keys is crucial for maintaining the integrity and functionality of dictionaries.\n",
        "\n",
        "***Why Must Dictionary Keys Be Immutable?***\n",
        "\n",
        "(i) **Hashing Requirement:-** Dictionaries in Python use a hash table to store and retrieve key-value pairs efficiently. When you use a key to access a value, Python computes the hash of the key to find the corresponding value.\n",
        "\n",
        "This requires that keys be immutable because only immutable objects can have a consistent hash value.\n",
        "\n",
        "If a key were mutable and changed after being added to the dictionary, its hash value would change. This would make it impossible for Python to find the value associated with the key, leading to errors.\n",
        "\n",
        "(ii) **Consistency and Integrity:-** If dictionary keys were mutable, modifying a key after insertion could lead to unpredictable behavior and errors. The dictionary would no longer be able to guarantee the consistency of key-value pairs, which could result in incorrect data retrieval or even loss of data.\n",
        "\n",
        "If Python allowed mutable objects as dictionary keys, the following issues could arise:\n",
        "\n",
        "(i) **Hash Inconsistency:-** If a list (a mutable type) were used as a key and its contents changed, the hash value would change. This would make it impossible for the dictionary to locate the original value.\n",
        "\n",
        "(ii) **Data Integrity Issues:-** Modifying a mutable key could cause the dictionary to lose track of the associated value or store it in the wrong location, leading to data corruption."
      ],
      "metadata": {
        "id": "5IRcpDLpUJ_8"
      }
    },
    {
      "cell_type": "code",
      "source": [
        "# Using immutable types as dictionary keys\n",
        "my_dict = {\n",
        "    1: \"one\",\n",
        "    3.14: \"pi\",\n",
        "    \"City\": \"Mumbai\",\n",
        "    (2, 4): \"coordinates\"\n",
        "}\n",
        "print(my_dict[1])\n",
        "print(my_dict[(2, 4)])\n",
        "print(my_dict[\"City\"])\n",
        "print(my_dict[3.14])"
      ],
      "metadata": {
        "colab": {
          "base_uri": "https://localhost:8080/"
        },
        "id": "BgngIe_vV9JW",
        "outputId": "1797fc1d-7e91-45be-a020-b8b09ea757b3"
      },
      "execution_count": 29,
      "outputs": [
        {
          "output_type": "stream",
          "name": "stdout",
          "text": [
            "one\n",
            "coordinates\n",
            "Mumbai\n",
            "pi\n"
          ]
        }
      ]
    },
    {
      "cell_type": "code",
      "source": [
        "# Attempting to use a mutable type (list) as a dictionary key\n",
        "try:\n",
        "  my_dict = { [1, 2, 3]: \"list_key\"}\n",
        "except TypeError as e:\n",
        "  print(e)\n"
      ],
      "metadata": {
        "colab": {
          "base_uri": "https://localhost:8080/"
        },
        "id": "fh8m42ZwYRff",
        "outputId": "09c84731-2ae6-4abc-cb6f-7fef94782b5d"
      },
      "execution_count": 33,
      "outputs": [
        {
          "output_type": "stream",
          "name": "stdout",
          "text": [
            "unhashable type: 'list'\n"
          ]
        }
      ]
    }
  ]
}