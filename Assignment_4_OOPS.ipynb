{
  "nbformat": 4,
  "nbformat_minor": 0,
  "metadata": {
    "colab": {
      "provenance": []
    },
    "kernelspec": {
      "name": "python3",
      "display_name": "Python 3"
    },
    "language_info": {
      "name": "python"
    }
  },
  "cells": [
    {
      "cell_type": "markdown",
      "source": [
        "###1. What are the five key concepts of Object-Oriented Programming (OOP)?"
      ],
      "metadata": {
        "id": "E3ssawyqrPPE"
      }
    },
    {
      "cell_type": "markdown",
      "source": [
        "The five key concepts of Object-Oriented Programming (OOP) are:\n",
        "\n",
        "(i) Classes and Objects:\n",
        "\n",
        "Class: A blueprint for creating objects. It defines a set of attributes and methods that the created objects (instances) will have.\n",
        "\n",
        "Object: An instance of a class. It represents a specific realization of the class with actual values for the attributes.\n",
        "\n",
        "(ii) Encapsulation:- Encapsulation is the concept of bundling data (attributes) and methods that operate on the data into a single unit, or class. It restricts direct access to some of the object's components, which means the internal state of an object can only be changed by its own methods. This helps to protect the integrity of the data.\n",
        "\n",
        "(iii) Inheritance:- Inheritance allows a new class to inherit the attributes and methods of an existing class. The new class, called a subclass (or derived class), can modify or add new attributes and methods. This promotes code reuse and the creation of hierarchical relationships between classes.\n",
        "\n",
        "(iv) Polymorphism:- Polymorphism allows objects of different classes to be treated as objects of a common superclass. It is the ability of different classes to respond to the same method call in different ways, typically by overriding methods in derived classes. This concept is useful for implementing functionality that can handle multiple data types or classes seamlessly.\n",
        "\n",
        "(v) Abstraction:- Abstraction is the concept of hiding the complex implementation details and showing only the essential features of an object. It helps to reduce complexity and allows for the easy management of large systems by providing clear, simple interfaces for interacting with objects."
      ],
      "metadata": {
        "id": "eT_sa8iNrkCe"
      }
    },
    {
      "cell_type": "markdown",
      "source": [
        "###2.  Write a Python class for a `Car` with attributes for `make`, `model`, and `year`. Include a method to display the car's information."
      ],
      "metadata": {
        "id": "rFYEfUW1sgrw"
      }
    },
    {
      "cell_type": "code",
      "source": [
        "class Car:\n",
        "    def __init__(self, make, model, year):\n",
        "        self.make = make\n",
        "        self.model = model\n",
        "        self.year = year\n",
        "\n",
        "    def display_info(self):\n",
        "        print(f\"Car Information: {self.make} {self.model} {self.year}\")\n",
        "my_car = Car(\"Dodge\", \"Hellcat\", 2022)\n",
        "my_car.display_info()"
      ],
      "metadata": {
        "colab": {
          "base_uri": "https://localhost:8080/"
        },
        "id": "DVCPYF0EsljU",
        "outputId": "3c7a3826-a1c0-465d-ce4b-c0bafc634176"
      },
      "execution_count": 6,
      "outputs": [
        {
          "output_type": "stream",
          "name": "stdout",
          "text": [
            "Car Information: Dodge Hellcat 2022\n"
          ]
        }
      ]
    },
    {
      "cell_type": "markdown",
      "source": [
        "###3.  Explain the difference between instance methods and class methods. Provide an example of each."
      ],
      "metadata": {
        "id": "3dvAmu84veVo"
      }
    },
    {
      "cell_type": "markdown",
      "source": [
        "Both instance methods and class methods are used to define behavior for a class, but they differ in terms of how they are called and what data they have access to.\n",
        "\n",
        "Instance Methods:- Instance methods are the most common type of method in a class. They take self as the first parameter, which refers to the instance of the class.\n",
        "\n",
        "They can access and modify instance attributes and call other instance methods.\n",
        "\n",
        "Instance methods are called on an object of the class (an instance)."
      ],
      "metadata": {
        "id": "nK3WrdXFvpQr"
      }
    },
    {
      "cell_type": "code",
      "source": [
        "class Dog:\n",
        "    def __init__(self, name, breed):\n",
        "        self.name = name\n",
        "        self.breed = breed\n",
        "    def bark(self):\n",
        "        print(f\"{self.name} is playing!\")\n",
        "dog1 = Dog(\"Rony\", \"Golden Retriever\")\n",
        "dog1.bark()"
      ],
      "metadata": {
        "colab": {
          "base_uri": "https://localhost:8080/"
        },
        "id": "urDQ-qEswFN1",
        "outputId": "3af38b38-748a-4cf4-aab0-92137f382cbb"
      },
      "execution_count": 7,
      "outputs": [
        {
          "output_type": "stream",
          "name": "stdout",
          "text": [
            "Rony is playing!\n"
          ]
        }
      ]
    },
    {
      "cell_type": "markdown",
      "source": [
        "Class Methods:- Class methods take cls as the first parameter, which refers to the class itself, not an instance of the class. They are defined using the @classmethod decorator.\n",
        "\n",
        "They can access and modify class attributes (shared across all instances) but cannot access or modify instance attributes directly.\n",
        "\n",
        "Class methods can be called on the class itself or on an instance of the class."
      ],
      "metadata": {
        "id": "t4lAyLNkw3fv"
      }
    },
    {
      "cell_type": "code",
      "source": [
        "class Dog:\n",
        "    species = \"Canis lupus familiaris\"\n",
        "\n",
        "    def __init__(self, name, breed):\n",
        "        self.name = name\n",
        "        self.breed = breed\n",
        "\n",
        "    @classmethod\n",
        "    def common_species(cls):\n",
        "        print(f\"All dogs belong to the species: {cls.species}\")\n",
        "dog1 = Dog(\"Rony\", \"Golden Retriever\")\n",
        "dog1.common_species()"
      ],
      "metadata": {
        "colab": {
          "base_uri": "https://localhost:8080/"
        },
        "id": "Gf_K2pDHxBNp",
        "outputId": "b83de53e-ffcd-4d83-a4c4-61b9de745f64"
      },
      "execution_count": 9,
      "outputs": [
        {
          "output_type": "stream",
          "name": "stdout",
          "text": [
            "All dogs belong to the species: Canis lupus familiaris\n"
          ]
        }
      ]
    },
    {
      "cell_type": "markdown",
      "source": [
        "###4. How does Python implement method overloading? Give an example."
      ],
      "metadata": {
        "id": "RtQjIDSDxvwA"
      }
    },
    {
      "cell_type": "markdown",
      "source": [
        "Method overloading (having multiple methods with the same name but different parameters) is not natively supported like in some other languages (e.g., Java or C++). However, you can achieve similar functionality using default arguments, variable-length arguments (*args, **kwargs), or by manually checking the types or number of arguments inside a single method.\n",
        "\n",
        "**Techniques to Simulate Method Overloading in Python**\n",
        "\n",
        "Default Arguments: You can provide default values for parameters, allowing the method to be called with varying numbers of arguments.\n",
        "\n",
        "Variable-Length Arguments (*args and **kwargs): This allows the method to accept any number of positional and keyword arguments.\n",
        "\n",
        "Type Checking Inside the Method: You can manually check the types and number of arguments inside the method and execute different code accordingly."
      ],
      "metadata": {
        "id": "WYxF9E5Yx58n"
      }
    },
    {
      "cell_type": "code",
      "source": [
        "class MathOperations:\n",
        "    def add(self, *args):\n",
        "        return sum(args)\n",
        "\n",
        "math_op = MathOperations()\n",
        "print(math_op.add(1, 2))\n",
        "print(math_op.add(1, 2, 3, 4))\n",
        "print(math_op.add(5, 10, 15, 20))"
      ],
      "metadata": {
        "colab": {
          "base_uri": "https://localhost:8080/"
        },
        "id": "FjeINLqtyGxv",
        "outputId": "a3614576-efd3-47d7-e974-fdb2eb591c21"
      },
      "execution_count": 10,
      "outputs": [
        {
          "output_type": "stream",
          "name": "stdout",
          "text": [
            "3\n",
            "10\n",
            "50\n"
          ]
        }
      ]
    },
    {
      "cell_type": "markdown",
      "source": [
        "###5.  What are the three types of access modifiers in Python? How are they denoted?"
      ],
      "metadata": {
        "id": "BzfC2T7ByyBA"
      }
    },
    {
      "cell_type": "markdown",
      "source": [
        "access modifiers are used to define the accessibility of class attributes and methods. Python has three types of access modifiers: public, protected, and private.\n",
        "\n",
        "These are denoted using specific naming conventions:\n",
        "\n",
        "**(i) Public**\n",
        "\n",
        "Denotation: No leading underscores (e.g., attribute or method).\n",
        "\n",
        "Accessibility: Public attributes and methods can be accessed from anywhere, both inside and outside the class."
      ],
      "metadata": {
        "id": "d46nW-vQzDzx"
      }
    },
    {
      "cell_type": "code",
      "source": [
        "class MyClass:\n",
        "    def __init__(self):\n",
        "        self.public_attribute = \"I am public\"\n",
        "\n",
        "    def public_method(self):\n",
        "        print(\"This is a public method\")\n",
        "\n",
        "obj = MyClass()\n",
        "print(obj.public_attribute)\n",
        "obj.public_method()"
      ],
      "metadata": {
        "colab": {
          "base_uri": "https://localhost:8080/"
        },
        "id": "XAknsS_9zvQt",
        "outputId": "04c7ee44-4cd1-4ff7-c1b7-97e1098297a6"
      },
      "execution_count": 11,
      "outputs": [
        {
          "output_type": "stream",
          "name": "stdout",
          "text": [
            "I am public\n",
            "This is a public method\n"
          ]
        }
      ]
    },
    {
      "cell_type": "markdown",
      "source": [
        "**(ii) Protected:-**\n",
        "\n",
        "Denotation: Single leading underscore (e.g., _attribute or _method).\n",
        "\n",
        "Accessibility: Protected attributes and methods can be accessed within the class and its subclasses, but they are not meant to be accessed directly from outside the class. However, Python does not enforce this, and it’s more of a convention."
      ],
      "metadata": {
        "id": "gG_xLpNOz5ws"
      }
    },
    {
      "cell_type": "code",
      "source": [
        "class MyClass:\n",
        "    def __init__(self):\n",
        "        self._protected_attribute = \"I am protected\"\n",
        "\n",
        "    def _protected_method(self):\n",
        "        print(\"This is a protected method\")\n",
        "\n",
        "obj = MyClass()\n",
        "print(obj._protected_attribute)\n",
        "obj._protected_method()"
      ],
      "metadata": {
        "colab": {
          "base_uri": "https://localhost:8080/"
        },
        "id": "MEqQAZCQz7Qk",
        "outputId": "e0106c1b-ae5e-4589-8ad8-c8605f2861dc"
      },
      "execution_count": 12,
      "outputs": [
        {
          "output_type": "stream",
          "name": "stdout",
          "text": [
            "I am protected\n",
            "This is a protected method\n"
          ]
        }
      ]
    },
    {
      "cell_type": "markdown",
      "source": [
        "**(iii) Private:-**\n",
        "\n",
        "Denotation: Double leading underscores (e.g., __attribute or __method).\n",
        "\n",
        "Accessibility: Private attributes and methods are intended to be accessible only within the class in which they are defined. Python uses name mangling to change the name of the attribute, making it harder (but not impossible) to access from outside the class."
      ],
      "metadata": {
        "id": "3M79SvpZ0Fug"
      }
    },
    {
      "cell_type": "code",
      "source": [
        "class MyClass:\n",
        "    def __init__(self):\n",
        "        self.__private_attribute = \"I am private\"\n",
        "\n",
        "    def __private_method(self):\n",
        "        print(\"This is a private method\")\n",
        "\n",
        "obj = MyClass()\n",
        "print(obj._MyClass__private_attribute)\n",
        "obj._MyClass__private_method()"
      ],
      "metadata": {
        "colab": {
          "base_uri": "https://localhost:8080/"
        },
        "id": "ik7V_JMX0NfT",
        "outputId": "01d4b419-1c8a-4947-b0f4-0a5886022ee7"
      },
      "execution_count": 13,
      "outputs": [
        {
          "output_type": "stream",
          "name": "stdout",
          "text": [
            "I am private\n",
            "This is a private method\n"
          ]
        }
      ]
    },
    {
      "cell_type": "markdown",
      "source": [
        "###6. Describe the five types of inheritance in Python. Provide a simple example of multiple inheritance."
      ],
      "metadata": {
        "id": "CijV5z_g0gd9"
      }
    },
    {
      "cell_type": "markdown",
      "source": [
        "**(i) Single Inheritance:-** A derived class inherits from only one base class. This is the simplest form of inheritance.\n",
        "\n",
        "**(ii) Multiple Inheritance:-** A derived class inherits from more than one base class. This allows the child class to inherit properties and methods from multiple parents.\n",
        "\n",
        "**(iii) Multilevel Inheritance:-** A derived class inherits from another derived class, creating a chain of inheritance.\n",
        "\n",
        "**(iv) Hierarchical Inheritance:-** Multiple derived classes inherit from the same base class.\n",
        "\n",
        "**(v) Hybrid Inheritance:-** A combination of more than one type of inheritance. This typically involves a mix of hierarchical and multiple inheritance."
      ],
      "metadata": {
        "id": "-0l2pNZP00c8"
      }
    },
    {
      "cell_type": "code",
      "source": [
        "class Animal:\n",
        "    def eat(self):\n",
        "        print(\"Eating\")\n",
        "\n",
        "class Mammal(Animal):\n",
        "    def walk(self):\n",
        "        print(\"Walking\")\n",
        "\n",
        "class Bird(Animal):\n",
        "    def fly(self):\n",
        "        print(\"Flying\")\n",
        "\n",
        "class Bat(Mammal, Bird):\n",
        "    def use_sonar(self):\n",
        "        print(\"Using sonar\")\n",
        "\n",
        "bat = Bat()\n",
        "bat.eat()\n",
        "bat.walk()\n",
        "bat.fly()\n",
        "bat.use_sonar()\n"
      ],
      "metadata": {
        "colab": {
          "base_uri": "https://localhost:8080/"
        },
        "id": "XKGXRPxF1l2c",
        "outputId": "4742d8b7-fcda-42fa-ebc4-d719fbf5c1b1"
      },
      "execution_count": 14,
      "outputs": [
        {
          "output_type": "stream",
          "name": "stdout",
          "text": [
            "Eating\n",
            "Walking\n",
            "Flying\n",
            "Using sonar\n"
          ]
        }
      ]
    },
    {
      "cell_type": "markdown",
      "source": [
        "###7. What is the Method Resolution Order (MRO) in Python? How can you retrieve it programmatically?"
      ],
      "metadata": {
        "id": "-mVA0cUx188O"
      }
    },
    {
      "cell_type": "markdown",
      "source": [
        "The Method Resolution Order (MRO) in Python is the order in which a method or attribute is searched for in a class hierarchy. It defines the sequence of classes that Python follows to look up a method or attribute when it is invoked on an object. The MRO is especially important in multiple inheritance scenarios to determine which method should be called first.\n",
        "\n",
        "Python uses the C3 linearization algorithm (also known as C3 superclass linearization) to create a consistent MRO for classes, ensuring that the MRO respects the inheritance hierarchy and resolves potential conflicts.\n",
        "\n",
        "You can retrieve the MRO of a class in Python using:\n",
        "\n",
        "(i) __ mro __ attribute: Returns a tuple of classes in the order they are searched.\n",
        "\n",
        "(ii) mro() method: Returns a list of classes in the order they are searched.\n",
        "\n",
        "(iii) help() function: Displays the MRO along with other information."
      ],
      "metadata": {
        "id": "XBFrb43j2N5O"
      }
    },
    {
      "cell_type": "markdown",
      "source": [
        "###8. Create an abstract base class `Shape` with an abstract method `area()`. Then create two subclasses `Circle` and `Rectangle` that implement the `area()` method."
      ],
      "metadata": {
        "id": "mUAaCOA43xw4"
      }
    },
    {
      "cell_type": "code",
      "source": [
        "from abc import ABC, abstractmethod\n",
        "import math\n",
        "\n",
        "# Abstract base class\n",
        "class Shape(ABC):\n",
        "    @abstractmethod\n",
        "    def area(self):\n",
        "        pass\n",
        "\n",
        "# Subclass Circle\n",
        "class Circle(Shape):\n",
        "    def __init__(self, radius):\n",
        "        self.radius = radius\n",
        "\n",
        "    def area(self):\n",
        "        return math.pi * self.radius * self.radius\n",
        "\n",
        "# Subclass Rectangle\n",
        "class Rectangle(Shape):\n",
        "    def __init__(self, width, height):\n",
        "        self.width = width\n",
        "        self.height = height\n",
        "\n",
        "    def area(self):\n",
        "        return self.width * self.height\n",
        "\n",
        "circle = Circle(15)\n",
        "rectangle = Rectangle(10, 20)\n",
        "\n",
        "print(f\"Circle Area: {circle.area()}\")\n",
        "print(f\"Rectangle Area: {rectangle.area()}\")"
      ],
      "metadata": {
        "colab": {
          "base_uri": "https://localhost:8080/"
        },
        "id": "xYYN33JP32ji",
        "outputId": "e877d4a4-ab84-4515-a63a-d353707baa39"
      },
      "execution_count": 18,
      "outputs": [
        {
          "output_type": "stream",
          "name": "stdout",
          "text": [
            "Circle Area: 706.8583470577034\n",
            "Rectangle Area: 200\n"
          ]
        }
      ]
    },
    {
      "cell_type": "markdown",
      "source": [
        "###10. Implement encapsulation in a `BankAccount` class with private attributes for `balance` and `account_number`. Include methods for deposit, withdrawal, and balance inquiry."
      ],
      "metadata": {
        "id": "Jig8GlHP4hpo"
      }
    },
    {
      "cell_type": "code",
      "source": [
        "class BankAccount:\n",
        "    def __init__(self, account_number, initial_balance=0):\n",
        "        self.__account_number = account_number\n",
        "        self.__balance = initial_balance\n",
        "\n",
        "    def deposit(self, amount):\n",
        "        if amount > 0:\n",
        "            self.__balance += amount\n",
        "            print(f\"Deposited ${amount}. New balance is ${self.__balance}.\")\n",
        "        else:\n",
        "            print(\"Deposit amount must be positive.\")\n",
        "\n",
        "    def withdraw(self, amount):\n",
        "        if 0 < amount <= self.__balance:\n",
        "            self.__balance -= amount\n",
        "            print(f\"Withdrew ${amount}. New balance is ${self.__balance}.\")\n",
        "        elif amount > self.__balance:\n",
        "            print(\"Insufficient balance for the withdrawal.\")\n",
        "        else:\n",
        "            print(\"Withdrawal amount must be positive.\")\n",
        "\n",
        "    def get_balance(self):\n",
        "        return self.__balance\n",
        "\n",
        "    def get_account_number(self):\n",
        "        return self.__account_number\n",
        "\n",
        "# Create an instance of the BankAccount class\n",
        "account = BankAccount(\"1234567890\", 500000)\n",
        "print(f\"Account Number: {account.get_account_number()}\")\n",
        "print(f\"Current Balance: ${account.get_balance()}\")\n",
        "\n",
        "account.deposit(20000)\n",
        "account.withdraw(10000)\n",
        "account.withdraw(100000)\n",
        "print(f\"Final Balance: ${account.get_balance()}\")"
      ],
      "metadata": {
        "colab": {
          "base_uri": "https://localhost:8080/"
        },
        "id": "3YM3x0mJ4lva",
        "outputId": "5f450b6f-4051-4ff7-d263-57d82729686f"
      },
      "execution_count": 22,
      "outputs": [
        {
          "output_type": "stream",
          "name": "stdout",
          "text": [
            "Account Number: 1234567890\n",
            "Current Balance: $500000\n",
            "Deposited $20000. New balance is $520000.\n",
            "Withdrew $10000. New balance is $510000.\n",
            "Withdrew $100000. New balance is $410000.\n",
            "Final Balance: $410000\n"
          ]
        }
      ]
    },
    {
      "cell_type": "markdown",
      "source": [
        "###11. Write a class that overrides the `__str__` and `__add__` magic methods. What will these methods allow you to do?"
      ],
      "metadata": {
        "id": "hMqHRqf15la9"
      }
    },
    {
      "cell_type": "markdown",
      "source": [
        "Magic methods (also called dunder methods) allow you to define the behavior of objects for built-in operations. By overriding these methods, you can customize how objects of your class behave in various situations.\n",
        "\n",
        "Magic Methods to Override\n",
        "\n",
        "__ str __ : This method is used to define the “informal” or “user-friendly” string representation of an object. It is called by the built-in str() function and the print() function. Overriding __str__ allows you to control what is displayed when an object is printed.\n",
        "\n",
        "__ add __ : This method is used to define the behavior of the addition operator (+). By overriding __ add __ , you can customize what happens when you use the + operator with instances of your class."
      ],
      "metadata": {
        "id": "Za_HmemVKHZJ"
      }
    },
    {
      "cell_type": "code",
      "source": [
        "class Vector:\n",
        "    def __init__(self, x, y):\n",
        "        self.x = x\n",
        "        self.y = y\n",
        "\n",
        "    def __str__(self):\n",
        "        return f\"Vector({self.x}, {self.y})\"\n",
        "\n",
        "    def __add__(self, other):\n",
        "        if isinstance(other, Vector):\n",
        "            return Vector(self.x + other.x, self.y + other.y)\n",
        "        return NotImplemented\n",
        "\n",
        "# Example usage\n",
        "v1 = Vector(5, 10)\n",
        "v2 = Vector(15, 20)\n",
        "\n",
        "print(v1)\n",
        "print(v2)\n",
        "\n",
        "v3 = v1 + v2\n",
        "print(v3)"
      ],
      "metadata": {
        "colab": {
          "base_uri": "https://localhost:8080/"
        },
        "id": "7EbUXe55Kh-o",
        "outputId": "314765e0-7941-4259-9bb1-8569a139734f"
      },
      "execution_count": 1,
      "outputs": [
        {
          "output_type": "stream",
          "name": "stdout",
          "text": [
            "Vector(5, 10)\n",
            "Vector(15, 20)\n",
            "Vector(20, 30)\n"
          ]
        }
      ]
    },
    {
      "cell_type": "markdown",
      "source": [
        "###12. Create a decorator that measures and prints the execution time of a function."
      ],
      "metadata": {
        "id": "DDaCMKkcLFhI"
      }
    },
    {
      "cell_type": "code",
      "source": [
        "import time\n",
        "\n",
        "def time_decorator(func):\n",
        "  # Decorator that measures the execution time of a function\n",
        "    def wrapper(*args, **kwargs):\n",
        "        start_time = time.time()\n",
        "        result = func(*args, **kwargs)\n",
        "        end_time = time.time()\n",
        "        execution_time = end_time - start_time\n",
        "        print(f\"Execution time of '{func.__name__}': {execution_time:.4f} seconds\")\n",
        "        return result\n",
        "    return wrapper\n",
        "\n",
        "@time_decorator\n",
        "def time_function(n):\n",
        "\n",
        "    total = 0\n",
        "    for i in range(n):\n",
        "        total += i\n",
        "    return total\n",
        "\n",
        "\n",
        "result = time_function(1000000)\n",
        "print(f\"Result: {result}\")"
      ],
      "metadata": {
        "colab": {
          "base_uri": "https://localhost:8080/"
        },
        "id": "iwtx0BPILJiV",
        "outputId": "21518182-d258-44fd-b8e6-a30ff6dabc07"
      },
      "execution_count": 3,
      "outputs": [
        {
          "output_type": "stream",
          "name": "stdout",
          "text": [
            "Execution time of 'time_function': 0.0692 seconds\n",
            "Result: 499999500000\n"
          ]
        }
      ]
    },
    {
      "cell_type": "markdown",
      "source": [
        "###13. Explain the concept of the Diamond Problem in multiple inheritance. How does Python resolve it?"
      ],
      "metadata": {
        "id": "vEMtm6hiL8AI"
      }
    },
    {
      "cell_type": "markdown",
      "source": [
        "The Diamond Problem in multiple inheritance occurs when a class inherits from two or more classes that have a common ancestor. This can lead to ambiguity in the method resolution order (MRO), as it's unclear which method or attribute should be inherited when invoked on the derived class.\n",
        "\n",
        "      A\n",
        "     / \\\n",
        "    B   C\n",
        "     \\ /\n",
        "      D\n",
        "\n",
        "Class A is the common ancestor.\n",
        "\n",
        "Classes B and C both inherit from A.\n",
        "\n",
        "Class D inherits from both B and C.\n",
        "\n",
        "**Python's Resolution of the Diamond Problem**\n",
        "\n",
        "Python resolves the Diamond Problem using the C3 linearization algorithm, which ensures a consistent MRO. The MRO is determined in such a way that:\n",
        "\n",
        "The parent classes are traversed in the order they are defined.\n",
        "A class appears before its parents in the MRO.\n",
        "The order of inheritance in the class definition is respected."
      ],
      "metadata": {
        "id": "aAoKi2FXMMHQ"
      }
    },
    {
      "cell_type": "code",
      "source": [
        "class A:\n",
        "    def greet(self):\n",
        "        return \"Hello from A\"\n",
        "\n",
        "class B(A):\n",
        "    def greet(self):\n",
        "        return \"Hello from B\"\n",
        "\n",
        "class C(A):\n",
        "    def greet(self):\n",
        "        return \"Hello from C\"\n",
        "\n",
        "class D(B, C):\n",
        "    pass\n",
        "\n",
        "d = D()\n",
        "print(d.greet())"
      ],
      "metadata": {
        "colab": {
          "base_uri": "https://localhost:8080/"
        },
        "id": "rPns-r6sNjek",
        "outputId": "194b0089-85c6-40a3-f8f3-a4f312d85852"
      },
      "execution_count": 6,
      "outputs": [
        {
          "output_type": "stream",
          "name": "stdout",
          "text": [
            "Hello from B\n"
          ]
        }
      ]
    },
    {
      "cell_type": "markdown",
      "source": [
        "###14. Write a class method that keeps track of the number of instances created from a class."
      ],
      "metadata": {
        "id": "v1Aw15ToOQ7B"
      }
    },
    {
      "cell_type": "code",
      "source": [
        "class InstanceCounter:\n",
        "    instance_count = 0\n",
        "\n",
        "    def __init__(self):\n",
        "        InstanceCounter.instance_count += 1\n",
        "\n",
        "    @classmethod\n",
        "    def get_instance_count(cls):\n",
        "        \"\"\"Class method to return the current instance count.\"\"\"\n",
        "        return cls.instance_count\n",
        "\n",
        "obj1 = InstanceCounter()\n",
        "obj2 = InstanceCounter()\n",
        "obj3 = InstanceCounter()\n",
        "obj4 = InstanceCounter()\n",
        "\n",
        "print(f\"Number of instances created: {InstanceCounter.get_instance_count()}\")\n"
      ],
      "metadata": {
        "colab": {
          "base_uri": "https://localhost:8080/"
        },
        "id": "43-7STWEPso4",
        "outputId": "33dc94cb-7933-4060-ea43-6006a8d2ebcc"
      },
      "execution_count": 11,
      "outputs": [
        {
          "output_type": "stream",
          "name": "stdout",
          "text": [
            "Number of instances created: 4\n"
          ]
        }
      ]
    },
    {
      "cell_type": "markdown",
      "source": [
        "###15. Implement a static method in a class that checks if a given year is a leap year."
      ],
      "metadata": {
        "id": "H0oHl3YGOqIG"
      }
    },
    {
      "cell_type": "code",
      "source": [
        "class Year:\n",
        "    @staticmethod\n",
        "    def is_leap_year(year):\n",
        "\n",
        "        if (year % 4 == 0):\n",
        "            return True\n",
        "        return False\n",
        "\n",
        "\n",
        "year_to_check = 2024\n",
        "if Year.is_leap_year(year_to_check):\n",
        "    print(f\"{year_to_check} is a leap year.\")\n",
        "else:\n",
        "    print(f\"{year_to_check} is not a leap year.\")\n",
        "\n",
        "year_to_check = 2022\n",
        "if Year.is_leap_year(year_to_check):\n",
        "    print(f\"{year_to_check} is a leap year.\")\n",
        "else:\n",
        "    print(f\"{year_to_check} is not a leap year.\")\n",
        "\n",
        "year_to_check = 2020\n",
        "if Year.is_leap_year(year_to_check):\n",
        "    print(f\"{year_to_check} is a leap year.\")\n",
        "else:\n",
        "    print(f\"{year_to_check} is not a leap year.\")\n"
      ],
      "metadata": {
        "colab": {
          "base_uri": "https://localhost:8080/"
        },
        "id": "zxvs8mivOwlD",
        "outputId": "1a6e2b02-0d2e-4a1f-9535-2d98fef4efcc"
      },
      "execution_count": 10,
      "outputs": [
        {
          "output_type": "stream",
          "name": "stdout",
          "text": [
            "2024 is a leap year.\n",
            "2022 is not a leap year.\n",
            "2020 is a leap year.\n"
          ]
        }
      ]
    }
  ]
}