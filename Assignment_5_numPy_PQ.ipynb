{
  "nbformat": 4,
  "nbformat_minor": 0,
  "metadata": {
    "colab": {
      "provenance": []
    },
    "kernelspec": {
      "name": "python3",
      "display_name": "Python 3"
    },
    "language_info": {
      "name": "python"
    }
  },
  "cells": [
    {
      "cell_type": "markdown",
      "source": [
        "# ***Practical Questions:***"
      ],
      "metadata": {
        "id": "UfnnFr0Z24qG"
      }
    },
    {
      "cell_type": "markdown",
      "source": [
        "###1. Create a 3x3 NumPy array with random integers between 1 and 100. Then, interchange its rows and columns."
      ],
      "metadata": {
        "id": "TZ6Ytvha3JIf"
      }
    },
    {
      "cell_type": "code",
      "source": [
        "import numpy as np\n",
        "\n",
        "array = np.random.randint(1, 101, size=(3, 3))\n",
        "\n",
        "# Interchange rows and columns (transpose)\n",
        "transposed_array = np.transpose(array)\n",
        "\n",
        "array, transposed_array\n"
      ],
      "metadata": {
        "colab": {
          "base_uri": "https://localhost:8080/"
        },
        "id": "Dunp_cft3LeG",
        "outputId": "6e751aff-7412-4058-f2a1-9b44d37b1591"
      },
      "execution_count": 3,
      "outputs": [
        {
          "output_type": "execute_result",
          "data": {
            "text/plain": [
              "(array([[34, 99, 92],\n",
              "        [76, 79, 55],\n",
              "        [49, 43, 29]]),\n",
              " array([[34, 76, 49],\n",
              "        [99, 79, 43],\n",
              "        [92, 55, 29]]))"
            ]
          },
          "metadata": {},
          "execution_count": 3
        }
      ]
    },
    {
      "cell_type": "markdown",
      "source": [
        "###2. Generate a 1D NumPy array with 10 elements. Reshape it into a 2x5 array, then into a 5x2 array"
      ],
      "metadata": {
        "id": "zDOjDqoL3xK2"
      }
    },
    {
      "cell_type": "code",
      "source": [
        "import numpy as np\n",
        "\n",
        "array_1d = np.arange(10)\n",
        "\n",
        "# Reshape into a 2x5 array\n",
        "array_2x5 = array_1d.reshape(2, 5)\n",
        "\n",
        "# Reshape into a 5x2 array\n",
        "array_5x2 = array_1d.reshape(5, 2)\n",
        "\n",
        "array_1d, array_2x5, array_5x2\n"
      ],
      "metadata": {
        "colab": {
          "base_uri": "https://localhost:8080/"
        },
        "id": "864yWCj4302n",
        "outputId": "18b9a10a-a629-43a2-9f93-271f41586425"
      },
      "execution_count": 4,
      "outputs": [
        {
          "output_type": "execute_result",
          "data": {
            "text/plain": [
              "(array([0, 1, 2, 3, 4, 5, 6, 7, 8, 9]),\n",
              " array([[0, 1, 2, 3, 4],\n",
              "        [5, 6, 7, 8, 9]]),\n",
              " array([[0, 1],\n",
              "        [2, 3],\n",
              "        [4, 5],\n",
              "        [6, 7],\n",
              "        [8, 9]]))"
            ]
          },
          "metadata": {},
          "execution_count": 4
        }
      ]
    },
    {
      "cell_type": "markdown",
      "source": [
        "###3.  Create a 4x4 NumPy array with random float values. Add a border of zeros around it, resulting in a 6x6 array"
      ],
      "metadata": {
        "id": "S-zkuy_j4C73"
      }
    },
    {
      "cell_type": "code",
      "source": [
        "# Create a 4x4 NumPy array with random float values\n",
        "array_4x4 = np.random.rand(4, 4)\n",
        "\n",
        "# Add a border of zeros around the array, making it a 6x6 array\n",
        "array_with_border = np.pad(array_4x4, pad_width=1, mode='constant', constant_values=0)\n",
        "\n",
        "array_4x4, array_with_border\n"
      ],
      "metadata": {
        "colab": {
          "base_uri": "https://localhost:8080/"
        },
        "id": "Tz7qbsKC4JSx",
        "outputId": "07b01c20-3034-4467-8e91-b6320c8704db"
      },
      "execution_count": 5,
      "outputs": [
        {
          "output_type": "execute_result",
          "data": {
            "text/plain": [
              "(array([[0.48828245, 0.55288837, 0.95054829, 0.60079645],\n",
              "        [0.43210817, 0.197186  , 0.04867403, 0.3543865 ],\n",
              "        [0.6674451 , 0.65696711, 0.24588355, 0.06331091],\n",
              "        [0.3344905 , 0.73376232, 0.2080707 , 0.82957376]]),\n",
              " array([[0.        , 0.        , 0.        , 0.        , 0.        ,\n",
              "         0.        ],\n",
              "        [0.        , 0.48828245, 0.55288837, 0.95054829, 0.60079645,\n",
              "         0.        ],\n",
              "        [0.        , 0.43210817, 0.197186  , 0.04867403, 0.3543865 ,\n",
              "         0.        ],\n",
              "        [0.        , 0.6674451 , 0.65696711, 0.24588355, 0.06331091,\n",
              "         0.        ],\n",
              "        [0.        , 0.3344905 , 0.73376232, 0.2080707 , 0.82957376,\n",
              "         0.        ],\n",
              "        [0.        , 0.        , 0.        , 0.        , 0.        ,\n",
              "         0.        ]]))"
            ]
          },
          "metadata": {},
          "execution_count": 5
        }
      ]
    },
    {
      "cell_type": "markdown",
      "source": [
        "###4.  Using NumPy, create an array of integers from 10 to 60 with a step of 5."
      ],
      "metadata": {
        "id": "eUWMWHc_4mhC"
      }
    },
    {
      "cell_type": "code",
      "source": [
        "import numpy as np\n",
        "\n",
        "array_step = np.arange(10, 61, 5)\n",
        "\n",
        "array_step"
      ],
      "metadata": {
        "colab": {
          "base_uri": "https://localhost:8080/"
        },
        "id": "SKPh33wA4req",
        "outputId": "44cf405b-a4a2-4b2e-97f2-cd1890092cec"
      },
      "execution_count": 7,
      "outputs": [
        {
          "output_type": "execute_result",
          "data": {
            "text/plain": [
              "array([10, 15, 20, 25, 30, 35, 40, 45, 50, 55, 60])"
            ]
          },
          "metadata": {},
          "execution_count": 7
        }
      ]
    },
    {
      "cell_type": "markdown",
      "source": [
        "###5.  Create a NumPy array of strings ['python', 'numpy', 'pandas']. Apply different case transformations (uppercase, lowercase, title case, etc.) to each element."
      ],
      "metadata": {
        "id": "3PVsWigk48m3"
      }
    },
    {
      "cell_type": "code",
      "source": [
        "string_array = np.array(['python', 'numpy', 'pandas'])\n",
        "\n",
        "# Apply different case transformations\n",
        "upper_case = np.char.upper(string_array)\n",
        "lower_case = np.char.lower(string_array)\n",
        "title_case = np.char.title(string_array)\n",
        "capitalize_case = np.char.capitalize(string_array)\n",
        "\n",
        "upper_case, lower_case, title_case, capitalize_case"
      ],
      "metadata": {
        "colab": {
          "base_uri": "https://localhost:8080/"
        },
        "id": "d1qpfdtM5AJ2",
        "outputId": "d5f7e399-5dbc-4ff9-cd65-d60f711b6c29"
      },
      "execution_count": 8,
      "outputs": [
        {
          "output_type": "execute_result",
          "data": {
            "text/plain": [
              "(array(['PYTHON', 'NUMPY', 'PANDAS'], dtype='<U6'),\n",
              " array(['python', 'numpy', 'pandas'], dtype='<U6'),\n",
              " array(['Python', 'Numpy', 'Pandas'], dtype='<U6'),\n",
              " array(['Python', 'Numpy', 'Pandas'], dtype='<U6'))"
            ]
          },
          "metadata": {},
          "execution_count": 8
        }
      ]
    },
    {
      "cell_type": "markdown",
      "source": [
        "###6. Generate a NumPy array of words. Insert a space between each character of every word in the array."
      ],
      "metadata": {
        "id": "Mc8u6O7Q5dTq"
      }
    },
    {
      "cell_type": "code",
      "source": [
        "words_array = np.array(['hello', 'world', 'numpy', 'python'])\n",
        "\n",
        "spaced_words = np.char.join(' ', words_array)\n",
        "\n",
        "spaced_words\n"
      ],
      "metadata": {
        "colab": {
          "base_uri": "https://localhost:8080/"
        },
        "id": "zWuqBdaU5f1J",
        "outputId": "b335f55b-dbd5-4a04-a221-8991e726168c"
      },
      "execution_count": 10,
      "outputs": [
        {
          "output_type": "execute_result",
          "data": {
            "text/plain": [
              "array(['h e l l o', 'w o r l d', 'n u m p y', 'p y t h o n'], dtype='<U11')"
            ]
          },
          "metadata": {},
          "execution_count": 10
        }
      ]
    },
    {
      "cell_type": "markdown",
      "source": [
        "###7. Create two 2D NumPy arrays and perform element-wise addition, subtraction, multiplication, and division"
      ],
      "metadata": {
        "id": "To0tLnkI6Fie"
      }
    },
    {
      "cell_type": "code",
      "source": [
        "import numpy as np\n",
        "\n",
        "array1 = np.array([[1, 2, 3], [4, 5, 6]])\n",
        "array2 = np.array([[7, 8, 9], [10, 11, 12]])\n",
        "\n",
        "# Perform element-wise operations\n",
        "addition = array1 + array2\n",
        "subtraction = array1 - array2\n",
        "multiplication = array1 * array2\n",
        "division = array1 / array2\n",
        "\n",
        "addition, subtraction, multiplication, division"
      ],
      "metadata": {
        "colab": {
          "base_uri": "https://localhost:8080/"
        },
        "id": "8AjZcbFa6Hyu",
        "outputId": "db1197c8-2072-4051-a0f2-264733d94436"
      },
      "execution_count": 11,
      "outputs": [
        {
          "output_type": "execute_result",
          "data": {
            "text/plain": [
              "(array([[ 8, 10, 12],\n",
              "        [14, 16, 18]]),\n",
              " array([[-6, -6, -6],\n",
              "        [-6, -6, -6]]),\n",
              " array([[ 7, 16, 27],\n",
              "        [40, 55, 72]]),\n",
              " array([[0.14285714, 0.25      , 0.33333333],\n",
              "        [0.4       , 0.45454545, 0.5       ]]))"
            ]
          },
          "metadata": {},
          "execution_count": 11
        }
      ]
    },
    {
      "cell_type": "markdown",
      "source": [
        "###8. Use NumPy to create a 5x5 identity matrix, then extract its diagonal elements"
      ],
      "metadata": {
        "id": "Fc0Prbrf62sQ"
      }
    },
    {
      "cell_type": "code",
      "source": [
        "identity_matrix = np.eye(5)\n",
        "\n",
        "diagonal_elements = np.diag(identity_matrix)\n",
        "\n",
        "identity_matrix, diagonal_elements\n"
      ],
      "metadata": {
        "colab": {
          "base_uri": "https://localhost:8080/"
        },
        "id": "OFsh5uwH66ZQ",
        "outputId": "6225f654-6dfc-4c61-97e3-699ba3c60f08"
      },
      "execution_count": 12,
      "outputs": [
        {
          "output_type": "execute_result",
          "data": {
            "text/plain": [
              "(array([[1., 0., 0., 0., 0.],\n",
              "        [0., 1., 0., 0., 0.],\n",
              "        [0., 0., 1., 0., 0.],\n",
              "        [0., 0., 0., 1., 0.],\n",
              "        [0., 0., 0., 0., 1.]]),\n",
              " array([1., 1., 1., 1., 1.]))"
            ]
          },
          "metadata": {},
          "execution_count": 12
        }
      ]
    },
    {
      "cell_type": "markdown",
      "source": [
        "###9.  Generate a NumPy array of 100 random integers between 0 and 1000. Find and display all prime numbers in this array."
      ],
      "metadata": {
        "id": "WmyGOE1o7GJb"
      }
    },
    {
      "cell_type": "code",
      "source": [
        "from sympy import isprime\n",
        "\n",
        "random_integers = np.random.randint(0, 1000, 100)\n",
        "\n",
        "\n",
        "prime_numbers = [num for num in random_integers if isprime(num)]\n",
        "\n",
        "random_integers, prime_numbers"
      ],
      "metadata": {
        "colab": {
          "base_uri": "https://localhost:8080/"
        },
        "id": "8xOPuA7L7KKb",
        "outputId": "a9c5ebc2-e30f-4371-a230-978e722d3709"
      },
      "execution_count": 13,
      "outputs": [
        {
          "output_type": "execute_result",
          "data": {
            "text/plain": [
              "(array([533, 179,  51, 347, 494,  70, 719, 692, 995,  78, 991, 727, 490,\n",
              "        335,  74,   6, 495, 290, 160, 637, 270, 664, 525, 397, 750, 187,\n",
              "        652,  96, 198, 283, 332, 310,  89, 716, 328, 908, 899, 969, 220,\n",
              "        606, 786, 955, 905, 317, 553, 958,  32, 984, 474, 927, 491, 821,\n",
              "        828, 543, 270, 940, 446, 526, 511, 470, 415, 977, 193, 106,   3,\n",
              "        387, 538, 121, 886, 251, 929, 783,  27, 648, 430, 574,  48, 736,\n",
              "        237, 498, 347, 126, 175, 949, 449, 565, 288, 675, 228, 248, 677,\n",
              "        465, 735, 310, 217, 339, 725,  40, 960, 566]),\n",
              " [179,\n",
              "  347,\n",
              "  719,\n",
              "  991,\n",
              "  727,\n",
              "  397,\n",
              "  283,\n",
              "  89,\n",
              "  317,\n",
              "  491,\n",
              "  821,\n",
              "  977,\n",
              "  193,\n",
              "  3,\n",
              "  251,\n",
              "  929,\n",
              "  347,\n",
              "  449,\n",
              "  677])"
            ]
          },
          "metadata": {},
          "execution_count": 13
        }
      ]
    },
    {
      "cell_type": "markdown",
      "source": [
        "###10. Create a NumPy array representing daily temperatures for a month. Calculate and display the weekly averages."
      ],
      "metadata": {
        "id": "2GFotaEO7i4f"
      }
    },
    {
      "cell_type": "code",
      "source": [
        "daily_temperatures = np.random.randint(15, 35, 30)\n",
        "\n",
        "weeks = daily_temperatures[:28].reshape(4, 7)\n",
        "\n",
        "weekly_averages = weeks.mean(axis=1)\n",
        "\n",
        "daily_temperatures, weekly_averages"
      ],
      "metadata": {
        "colab": {
          "base_uri": "https://localhost:8080/"
        },
        "id": "FSgpHkxw7lrk",
        "outputId": "2e775e32-b419-4903-8e1d-1d40263c9210"
      },
      "execution_count": 14,
      "outputs": [
        {
          "output_type": "execute_result",
          "data": {
            "text/plain": [
              "(array([26, 19, 16, 28, 23, 32, 20, 30, 30, 26, 17, 17, 28, 23, 18, 29, 24,\n",
              "        18, 15, 26, 29, 21, 32, 31, 22, 23, 20, 17, 17, 23]),\n",
              " array([23.42857143, 24.42857143, 22.71428571, 23.71428571]))"
            ]
          },
          "metadata": {},
          "execution_count": 14
        }
      ]
    }
  ]
}