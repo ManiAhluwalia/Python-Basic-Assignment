{
  "nbformat": 4,
  "nbformat_minor": 0,
  "metadata": {
    "colab": {
      "provenance": []
    },
    "kernelspec": {
      "name": "python3",
      "display_name": "Python 3"
    },
    "language_info": {
      "name": "python"
    }
  },
  "cells": [
    {
      "cell_type": "markdown",
      "source": [
        "###1. Explain the key features of Python that make it a popular choice for programming?"
      ],
      "metadata": {
        "id": "hc9m9SX7rbLh"
      }
    },
    {
      "cell_type": "markdown",
      "source": [
        "***Features of Python programming language:-***"
      ],
      "metadata": {
        "id": "2h_LKlogtYuY"
      }
    },
    {
      "cell_type": "markdown",
      "source": [
        "**1. Free and Open Source:-**\n",
        "Since it is open-source, this means that source code is also available to the public. So you can download it, use it as well as share it."
      ],
      "metadata": {
        "id": "COpoiaOauiq0"
      }
    },
    {
      "cell_type": "markdown",
      "source": [
        "**2. Easy to code:-**\n",
        "Python is a high-level programming language. Python is very easy to learn the language as compared to other languages like C, C#, Javascript, Java, etc. It is very easy to code in the Python language and anybody can learn Python basics in a few hours or days."
      ],
      "metadata": {
        "id": "hIjnRuMBu1ab"
      }
    },
    {
      "cell_type": "markdown",
      "source": [
        "**3. Object-Oriented Language:-**\n",
        "One of the key features of Python is Object-Oriented programming. Python supports object-oriented language and concepts of classes, object encapsulation, etc."
      ],
      "metadata": {
        "id": "df27mtXVvLUx"
      }
    },
    {
      "cell_type": "markdown",
      "source": [
        "**4. Large Standard Library:-**\n",
        "Python has a large standard library that provides a rich set of modules and functions so you do not have to write your own code for every single thing. There are many libraries present in Python such as regular expressions, unit-testing, web browsers, etc."
      ],
      "metadata": {
        "id": "Trsh2iayv_bM"
      }
    },
    {
      "cell_type": "markdown",
      "source": [
        "**5. GUI Programming Support:-**\n",
        "Graphical User interfaces can be made using a module such as PyQt5, PyQt4, wxPython, or Tk in Python. PyQt5 is the most popular option for creating graphical apps with Python."
      ],
      "metadata": {
        "id": "pil-DKeuwiTa"
      }
    },
    {
      "cell_type": "markdown",
      "source": [
        "**6. Easy to Debug:-**\n",
        "You will be able to quickly identify and correct the majority of your programs issues once you understand how to interpret Python's error traces. Simply by glancing at the code, you can determine what it is designed to perform."
      ],
      "metadata": {
        "id": "NXFSkce5wyRg"
      }
    },
    {
      "cell_type": "markdown",
      "source": [
        "**7. Frontend and backend development:-**\n",
        "With a new project py script, you can run and write Python codes in HTML with the help of some simple tags py-script, py-env, etc. This will help you do frontend development work in Python like javascript. Backend is the strong forte of Python it's extensively used for this work cause of its frameworks like Django and Flask."
      ],
      "metadata": {
        "id": "Pc167sYRxOn7"
      }
    },
    {
      "cell_type": "markdown",
      "source": [
        "###2. Describe the role of predefined keyword's in Python and provide examples of how they are used in a program?"
      ],
      "metadata": {
        "id": "MqVToLAq1dE1"
      }
    },
    {
      "cell_type": "markdown",
      "source": [
        "Keywords in Python are predefined words, that are not to be used as any other kind of identifiers like for example, variable names or function names.\n",
        "\n",
        "These keywords are a part of the syntax in the language with a special meaning associated with them.\n",
        "\n",
        "They play a major role in Python code by defining its structure and logic.\n",
        "\n",
        "A few examples of commonly used Python keywords are: True, False, else, import, break, if, finally, is, and global."
      ],
      "metadata": {
        "id": "x-HSzlpw3Q94"
      }
    },
    {
      "cell_type": "code",
      "source": [
        "x = True\n",
        "y = False\n",
        "print(x,y)"
      ],
      "metadata": {
        "colab": {
          "base_uri": "https://localhost:8080/"
        },
        "id": "ljXj066234Tq",
        "outputId": "f484f457-8afc-4a5a-8952-4422b3382cfa"
      },
      "execution_count": null,
      "outputs": [
        {
          "output_type": "stream",
          "name": "stdout",
          "text": [
            "True False\n"
          ]
        }
      ]
    },
    {
      "cell_type": "code",
      "source": [
        "import keyword\n",
        "\n",
        "print(keyword.kwlist)\n"
      ],
      "metadata": {
        "colab": {
          "base_uri": "https://localhost:8080/"
        },
        "id": "N2mu_YIh4TtY",
        "outputId": "d0cd8cb0-4303-4b12-b53e-fc29e38b4a80"
      },
      "execution_count": null,
      "outputs": [
        {
          "output_type": "stream",
          "name": "stdout",
          "text": [
            "['False', 'None', 'True', 'and', 'as', 'assert', 'async', 'await', 'break', 'class', 'continue', 'def', 'del', 'elif', 'else', 'except', 'finally', 'for', 'from', 'global', 'if', 'import', 'in', 'is', 'lambda', 'nonlocal', 'not', 'or', 'pass', 'raise', 'return', 'try', 'while', 'with', 'yield']\n"
          ]
        }
      ]
    },
    {
      "cell_type": "code",
      "source": [
        "x = 8\n",
        "if x > 10:\n",
        "  print(\"x is greater than 10\")\n",
        "else:\n",
        "  print(\"x is equal to 8\")"
      ],
      "metadata": {
        "colab": {
          "base_uri": "https://localhost:8080/"
        },
        "id": "DE-G76_U6Y91",
        "outputId": "2414e90b-2343-44b2-b76f-b25b7475275b"
      },
      "execution_count": null,
      "outputs": [
        {
          "output_type": "stream",
          "name": "stdout",
          "text": [
            "x is equal to 8\n"
          ]
        }
      ]
    },
    {
      "cell_type": "markdown",
      "source": [
        "###3. Compare and contrast mutable and immutable objects in Python with examples?"
      ],
      "metadata": {
        "id": "XuoD8qsj-2cp"
      }
    },
    {
      "cell_type": "markdown",
      "source": [
        "***-> Mutable***\n",
        "\n",
        "\n",
        "\n",
        "\n",
        "\n",
        "\n",
        "\n"
      ],
      "metadata": {
        "id": "PWn-r7JW_iJh"
      }
    },
    {
      "cell_type": "markdown",
      "source": [
        "Whenever an object is susceptible to internal change or has the ability to change its values is known as a mutable object.\n",
        "\n",
        "Mutable objects in Python are generally changed after creation.\n",
        "\n",
        "The objects can be modified after the creation as well.\n",
        "\n",
        "Classes that are mutable are not considered final.\n",
        "\n",
        "Mutable objects are thread unsafe.\n",
        "\n",
        "Their values can be changed but the identity of the object remains intact.\n",
        "\n",
        "The objects in Python which are mutable are provided below:\n",
        "\n",
        "(i) Lists\n",
        "\n",
        "(ii) Dictionary\n",
        "\n",
        "(iii) Sets"
      ],
      "metadata": {
        "id": "-iXgLD2c__EI"
      }
    },
    {
      "cell_type": "code",
      "source": [
        "dict1 = {1: 'Python', 2: 'Java', 3: 'C'}\n",
        "\n",
        "print(dict1)\n",
        "\n",
        "dict1[4] = 'C++'\n",
        "\n",
        "print(dict1)\n",
        "\n",
        "updateDict = {4: 'Javascript'}\n",
        "\n",
        "dict1.update(updateDict)\n",
        "\n",
        "print(dict1)"
      ],
      "metadata": {
        "colab": {
          "base_uri": "https://localhost:8080/"
        },
        "id": "5zv79KS8-9F-",
        "outputId": "69a70078-cd5f-4386-92e9-0c5c6836f165"
      },
      "execution_count": null,
      "outputs": [
        {
          "output_type": "stream",
          "name": "stdout",
          "text": [
            "{1: 'Python', 2: 'Java', 3: 'C'}\n",
            "{1: 'Python', 2: 'Java', 3: 'C', 4: 'C++'}\n",
            "{1: 'Python', 2: 'Java', 3: 'C', 4: 'Javascript'}\n"
          ]
        }
      ]
    },
    {
      "cell_type": "markdown",
      "source": [
        "*->Immutable*"
      ],
      "metadata": {
        "id": "zPxZ3jmPKok3"
      }
    },
    {
      "cell_type": "markdown",
      "source": [
        "When the objects in the Python are not susceptible to the internal change are known as the immutable objects.\n",
        "\n",
        "They can not be modified once they are created. For example, int in Python is immutable hence they can not be modified once they are created.\n",
        "\n",
        "Objects can not be modified after the creation of the objects.\n",
        "\n",
        "Classes that are immutable are considered final.\n",
        "\n",
        "Immutable objects are thread safe.\n",
        "\n",
        "Objects in Python which are immutable are shown below:\n",
        "\n",
        "(i) int\n",
        "\n",
        "(ii) float\n",
        "\n",
        "(iii) string\n",
        "\n",
        "(iv) tuple\n",
        "\n",
        "(v) Numbers"
      ],
      "metadata": {
        "id": "ZKb4Wa6QK-we"
      }
    },
    {
      "cell_type": "code",
      "source": [
        "string = \"Hello World\"\n",
        "\n",
        "string[0] = 'h'\n",
        "\n",
        "print(string)"
      ],
      "metadata": {
        "colab": {
          "base_uri": "https://localhost:8080/",
          "height": 211
        },
        "id": "R1qNT8VibXzr",
        "outputId": "2d7cd1b1-358f-4d2a-e0a8-b4e774747d54"
      },
      "execution_count": 3,
      "outputs": [
        {
          "output_type": "error",
          "ename": "TypeError",
          "evalue": "'str' object does not support item assignment",
          "traceback": [
            "\u001b[0;31m---------------------------------------------------------------------------\u001b[0m",
            "\u001b[0;31mTypeError\u001b[0m                                 Traceback (most recent call last)",
            "\u001b[0;32m<ipython-input-3-6f98b2f198c4>\u001b[0m in \u001b[0;36m<cell line: 3>\u001b[0;34m()\u001b[0m\n\u001b[1;32m      1\u001b[0m \u001b[0mstring\u001b[0m \u001b[0;34m=\u001b[0m \u001b[0;34m\"Hello World\"\u001b[0m\u001b[0;34m\u001b[0m\u001b[0;34m\u001b[0m\u001b[0m\n\u001b[1;32m      2\u001b[0m \u001b[0;34m\u001b[0m\u001b[0m\n\u001b[0;32m----> 3\u001b[0;31m \u001b[0mstring\u001b[0m\u001b[0;34m[\u001b[0m\u001b[0;36m0\u001b[0m\u001b[0;34m]\u001b[0m \u001b[0;34m=\u001b[0m \u001b[0;34m'h'\u001b[0m\u001b[0;34m\u001b[0m\u001b[0;34m\u001b[0m\u001b[0m\n\u001b[0m\u001b[1;32m      4\u001b[0m \u001b[0;34m\u001b[0m\u001b[0m\n\u001b[1;32m      5\u001b[0m \u001b[0mprint\u001b[0m\u001b[0;34m(\u001b[0m\u001b[0mstring\u001b[0m\u001b[0;34m)\u001b[0m\u001b[0;34m\u001b[0m\u001b[0;34m\u001b[0m\u001b[0m\n",
            "\u001b[0;31mTypeError\u001b[0m: 'str' object does not support item assignment"
          ]
        }
      ]
    },
    {
      "cell_type": "markdown",
      "source": [
        "###4. Discuss the different types of operators in Python and provide examples of how they are used?"
      ],
      "metadata": {
        "id": "1F1hb8I01MIS"
      }
    },
    {
      "cell_type": "markdown",
      "source": [
        "Operators are special symbols or keywords that carry out operations on values and python variables.\n",
        "\n",
        "Python contains several operators, each with its unique purpose.\n",
        "\n",
        "Python language supports various types of operators are:\n",
        "\n",
        "(i) Arithmetic Operators\n",
        "\n",
        "(ii) Comparison (Relational) Operators\n",
        "\n",
        "(iii) Assignment Operators\n",
        "\n",
        "(iv) Logical Operators\n",
        "\n",
        "(v) Bitwise Operators\n",
        "\n",
        "(vi) Membership Operators\n",
        "\n",
        "(vii) Identity Operators"
      ],
      "metadata": {
        "id": "FzPc2mX11wyl"
      }
    },
    {
      "cell_type": "markdown",
      "source": [
        "**-> Arithmetic Operators:-** The Arithmetic Operators are Addition(+), Substraction(-), Multiplication(*), Division(/), Modulus(%), Exponent(**), Floor Division(//)."
      ],
      "metadata": {
        "id": "MlxsUXwY5Qt4"
      }
    },
    {
      "cell_type": "code",
      "source": [
        "a = 10\n",
        "b = 5\n",
        "# Addition\n",
        "print (\"a + b : \", a + b)\n",
        "# Subtraction\n",
        "print (\"a - b : \", a - b)\n",
        "# Multiplication\n",
        "print (\"a * b : \", a * b)\n",
        "# Division\n",
        "print (\"a / b : \", a / b)\n",
        "# Modulus\n",
        "print (\"a % b : \", a % b)\n",
        "# Exponent\n",
        "print (\"a ** b : \", a ** b)\n",
        "# Floor Division\n",
        "print (\"a // b : \", a // b)"
      ],
      "metadata": {
        "colab": {
          "base_uri": "https://localhost:8080/"
        },
        "id": "8qcNFI5h6xNx",
        "outputId": "509bfd0e-bebe-49e3-aca5-e0043391ed76"
      },
      "execution_count": null,
      "outputs": [
        {
          "output_type": "stream",
          "name": "stdout",
          "text": [
            "a + b :  15\n",
            "a - b :  5\n",
            "a * b :  50\n",
            "a / b :  2.0\n",
            "a % b :  0\n",
            "a ** b :  100000\n",
            "a // b :  2\n"
          ]
        }
      ]
    },
    {
      "cell_type": "markdown",
      "source": [
        "**-> Comparison Operators:-** Comparison Operators are Equal to(==), Not Equal(!=),Greater Than(>), Less Than(<), Greater than or Equal to(>=), Less than or Equal to(<=)."
      ],
      "metadata": {
        "id": "6SvrV2uU7sr-"
      }
    },
    {
      "cell_type": "code",
      "source": [
        "a = 5\n",
        "b = 10\n",
        "# Equal\n",
        "print (\"a == b : \", a == b)\n",
        "# Not Equal\n",
        "print (\"a != b : \", a != b)\n",
        "# Greater Than\n",
        "print (\"a > b : \", a > b)\n",
        "# Less Than\n",
        "print (\"a < b : \", a < b)\n",
        "# Greater Than or Equal to\n",
        "print (\"a >= b : \", a >= b)\n",
        "# Less Than or Equal to\n",
        "print (\"a <= b : \", a <= b)\n"
      ],
      "metadata": {
        "colab": {
          "base_uri": "https://localhost:8080/"
        },
        "id": "l0oHzJkH8rL-",
        "outputId": "b9411035-0f37-4e89-fb49-985e2807e152"
      },
      "execution_count": null,
      "outputs": [
        {
          "output_type": "stream",
          "name": "stdout",
          "text": [
            "a == b :  False\n",
            "a != b :  True\n",
            "a > b :  False\n",
            "a < b :  True\n",
            "a >= b :  False\n",
            "a <= b :  True\n"
          ]
        }
      ]
    },
    {
      "cell_type": "markdown",
      "source": [
        "**-> Assignment Operators:-** Assignment Operators are Assignment Operator(=), \tAddition Assignment(+=), Subtraction Assignment(-=), Multiplication Assignment(*=), Division Assignment(/=), Remainder Assignment(%=), Exponent Assignment(**=), Floor Division Assignment(//=)."
      ],
      "metadata": {
        "id": "Ew0ltc-K9CAw"
      }
    },
    {
      "cell_type": "code",
      "source": [
        "# Assignment Operator\n",
        "a = 20\n",
        "# Addition Assignment\n",
        "a += 10\n",
        "print (\"a += 10 : \", a)\n",
        "# Subtraction Assignment\n",
        "a -= 10\n",
        "print (\"a -= 10 : \", a)\n",
        "# Multiplication Assignment\n",
        "a *= 10\n",
        "print (\"a *= 10 : \", a)\n",
        "# Division Assignment\n",
        "a /= 10\n",
        "print (\"a /= 10 : \",a)\n",
        "# Remainder Assignment\n",
        "a %= 3\n",
        "print (\"a %= 3 : \", a)\n",
        "# Exponent Assignment\n",
        "a **= 3\n",
        "print (\"a **= 3 : \", a)\n",
        "# Floor Division Assignment\n",
        "a //= 3\n",
        "print (\"a //= 3 : \", a)"
      ],
      "metadata": {
        "colab": {
          "base_uri": "https://localhost:8080/"
        },
        "id": "sYdje_UQ-Il_",
        "outputId": "850b4634-4631-47eb-be2a-b50714d3cd21"
      },
      "execution_count": null,
      "outputs": [
        {
          "output_type": "stream",
          "name": "stdout",
          "text": [
            "a += 10 :  30\n",
            "a -= 10 :  20\n",
            "a *= 10 :  200\n",
            "a /= 10 :  20.0\n",
            "a %= 3 :  2.0\n",
            "a **= 3 :  8.0\n",
            "a //= 3 :  2.0\n"
          ]
        }
      ]
    },
    {
      "cell_type": "markdown",
      "source": [
        "**-> Bitwise Operators:-** Bitwise Operators are AND (&), OR (|), NOT (), XOR (), left shift (), and right shift (>>)."
      ],
      "metadata": {
        "id": "QQHrKM67_aVV"
      }
    },
    {
      "cell_type": "code",
      "source": [
        "a = 60\n",
        "b = 13\n",
        "# AND\n",
        "c = a & b\n",
        "print (\"a & b : \", c)\n",
        "# OR\n",
        "c = a | b\n",
        "print (\"a | b : \", c)\n",
        "# XOR\n",
        "c = a ^ b\n",
        "print (\"a ^ b : \", c)\n"
      ],
      "metadata": {
        "colab": {
          "base_uri": "https://localhost:8080/"
        },
        "id": "hFBvwI7l_jBt",
        "outputId": "b38aaa90-7ee2-4bcb-c250-947c931fbea8"
      },
      "execution_count": null,
      "outputs": [
        {
          "output_type": "stream",
          "name": "stdout",
          "text": [
            "a & b :  12\n",
            "a | b :  61\n",
            "a ^ b :  49\n"
          ]
        }
      ]
    },
    {
      "cell_type": "markdown",
      "source": [
        "**-> Logical Operators:-** Logical Operators are AND, OR, and NOT."
      ],
      "metadata": {
        "id": "UbiOMXzXAcXA"
      }
    },
    {
      "cell_type": "code",
      "source": [
        "a = 10\n",
        "b = 5\n",
        "result = (a > 5 and b < 10)\n",
        "print(result)\n",
        "result = (a > 5 or b < 10)\n",
        "print(result)\n",
        "result = not(a > 5 and b < 10)\n",
        "print(result)"
      ],
      "metadata": {
        "colab": {
          "base_uri": "https://localhost:8080/",
          "height": 0
        },
        "id": "89mMFUKSaOF9",
        "outputId": "f1588a3d-a827-46f2-ff49-7307395467cd"
      },
      "execution_count": 7,
      "outputs": [
        {
          "output_type": "stream",
          "name": "stdout",
          "text": [
            "True\n",
            "True\n",
            "False\n"
          ]
        }
      ]
    },
    {
      "cell_type": "markdown",
      "source": [
        "**-> Membership Operators:-** Membership Operators are In and Not In."
      ],
      "metadata": {
        "id": "QaUMBlMMYEwY"
      }
    },
    {
      "cell_type": "code",
      "source": [
        "x = [1, 2, 3, 4, 5]\n",
        "print(1 in x)\n",
        "print(6 not in x)"
      ],
      "metadata": {
        "colab": {
          "base_uri": "https://localhost:8080/",
          "height": 0
        },
        "id": "4Q0HT-ySYjvw",
        "outputId": "a6b4add6-dfe2-436e-98e9-ed90a9aa3ef0"
      },
      "execution_count": 5,
      "outputs": [
        {
          "output_type": "stream",
          "name": "stdout",
          "text": [
            "True\n",
            "True\n"
          ]
        }
      ]
    },
    {
      "cell_type": "markdown",
      "source": [
        "**-> Identity Operators:-** Identity Operators are Is and Not Is."
      ],
      "metadata": {
        "id": "pbd4iKjYX5lz"
      }
    },
    {
      "cell_type": "code",
      "source": [
        "x = 10\n",
        "y = 20\n",
        "if x is y:\n",
        "    print(\"x and y are the same object\")\n",
        "else:\n",
        "    print(\"x and y are not the same object\")"
      ],
      "metadata": {
        "colab": {
          "base_uri": "https://localhost:8080/"
        },
        "id": "AW46_4ROCWW_",
        "outputId": "0dd63b91-0b8b-4bab-c6e3-70e62f723674"
      },
      "execution_count": null,
      "outputs": [
        {
          "output_type": "stream",
          "name": "stdout",
          "text": [
            "x and y are not the same object\n"
          ]
        }
      ]
    },
    {
      "cell_type": "markdown",
      "source": [
        "###5. Explain the concept of type casting in Python with examples?"
      ],
      "metadata": {
        "id": "4PgszJuXCfTS"
      }
    },
    {
      "cell_type": "markdown",
      "source": [
        "**Type Casting:-** Type casting, also known as type conversion, is the process of converting one data type into another. In Python, this can be done either implicitly by the interpreter (automatic type conversion) or explicitly by the programmer (explicit type conversion).\n",
        "\n",
        "***Types of Type Casting***\n",
        "\n",
        "1. Implicit Type Casting\n",
        "\n",
        "2. Explicit Type Casting"
      ],
      "metadata": {
        "id": "xz0K0UuZDKpv"
      }
    },
    {
      "cell_type": "markdown",
      "source": [
        "**-> Implicit Type Casting:-**\n",
        "Implicit type casting is done automatically by Python when it encounters operations involving different data types. In such cases, Python automatically converts one data type to another (usually a smaller data type to a larger data type) to avoid data loss."
      ],
      "metadata": {
        "id": "xGV_7pLxFsxn"
      }
    },
    {
      "cell_type": "code",
      "source": [
        "a = 10    # int\n",
        "b = 7.5   #float\n",
        "\n",
        "result = a + b\n",
        "\n",
        "print(result)\n",
        "print(type(result))\n"
      ],
      "metadata": {
        "colab": {
          "base_uri": "https://localhost:8080/"
        },
        "id": "wUmZ-Cz0F9EX",
        "outputId": "4c167519-df65-4ed7-9ba8-1c0f5e3d1981"
      },
      "execution_count": null,
      "outputs": [
        {
          "output_type": "stream",
          "name": "stdout",
          "text": [
            "17.5\n",
            "<class 'float'>\n"
          ]
        }
      ]
    },
    {
      "cell_type": "markdown",
      "source": [
        "**-> Explicit Type Casting:-**\n",
        "Explicit type casting is when the programmer manually converts one data type into another using built-in Python functions. Common functions used for explicit type conversion include:\n",
        "\n",
        "int(): Converts a value to an integer.\n",
        "\n",
        "float(): Converts a value to a float.\n",
        "\n",
        "str(): Converts a value to a string.\n",
        "\n",
        "list(): Converts a value to a list.\n",
        "\n",
        "tuple(): Converts a value to a tuple."
      ],
      "metadata": {
        "id": "f2c_4kLMGwMT"
      }
    },
    {
      "cell_type": "code",
      "source": [
        "# converts float to integer\n",
        "x = 7.55\n",
        "y = int(x)\n",
        "\n",
        "print(y)\n",
        "print(type(y))\n"
      ],
      "metadata": {
        "colab": {
          "base_uri": "https://localhost:8080/"
        },
        "id": "nmwLQzC9G4va",
        "outputId": "1a1fe642-b47b-461a-aa8a-5a44c7421b40"
      },
      "execution_count": null,
      "outputs": [
        {
          "output_type": "stream",
          "name": "stdout",
          "text": [
            "7\n",
            "<class 'int'>\n"
          ]
        }
      ]
    },
    {
      "cell_type": "code",
      "source": [
        "# Converts integer to string\n",
        "num = 786\n",
        "s = str(num)\n",
        "\n",
        "print(s)\n",
        "print(type(s))\n"
      ],
      "metadata": {
        "colab": {
          "base_uri": "https://localhost:8080/"
        },
        "id": "WpKgPE5lIixb",
        "outputId": "a37363a4-2e44-4a95-aa3f-11dd95bc2a47"
      },
      "execution_count": null,
      "outputs": [
        {
          "output_type": "stream",
          "name": "stdout",
          "text": [
            "786\n",
            "<class 'str'>\n"
          ]
        }
      ]
    },
    {
      "cell_type": "markdown",
      "source": [
        "###6. How do conditional statements work in Python? Illustrate with examples?"
      ],
      "metadata": {
        "id": "YJ_q02gkI8DT"
      }
    },
    {
      "cell_type": "markdown",
      "source": [
        "Conditional statements are also called decision-making statements. We use those statements while we want to execute a different block of codes when the given condition is true or false.\n",
        "\n",
        "Types of Conditional Statements in Python\n",
        "\n",
        "(i) if Statement\n",
        "\n",
        "(ii) if-else Statement\n",
        "\n",
        "(iii) if-elif-else Statement\n",
        "\n",
        "(iv) Nested if Statement\n",
        "\n",
        "if checks a condition and executes a block of code if the condition is True.\n",
        "\n",
        "if-else adds an alternative block if the condition is False.\n",
        "\n",
        "if-elif-else handles multiple conditions in sequence, executing only the first True block.\n",
        "\n",
        "Nested if statements allow hierarchical checking of conditions."
      ],
      "metadata": {
        "id": "TXcIJAe3cNoB"
      }
    },
    {
      "cell_type": "markdown",
      "source": [
        "**if Statement**"
      ],
      "metadata": {
        "id": "zwGCDgS1dApK"
      }
    },
    {
      "cell_type": "code",
      "source": [
        "a = 10\n",
        "b = 20\n",
        "\n",
        "if a<b:\n",
        "   print(\"a is less than b\")"
      ],
      "metadata": {
        "colab": {
          "base_uri": "https://localhost:8080/"
        },
        "id": "ZF_gjPiczN3D",
        "outputId": "71479396-2793-4a13-a6ea-7c1b2541820f"
      },
      "execution_count": null,
      "outputs": [
        {
          "output_type": "stream",
          "name": "stdout",
          "text": [
            "a is less than b\n"
          ]
        }
      ]
    },
    {
      "cell_type": "markdown",
      "source": [
        "**if-else Statement**"
      ],
      "metadata": {
        "id": "K-JJAzuyeEhf"
      }
    },
    {
      "cell_type": "code",
      "source": [
        "a = 20\n",
        "b = 10\n",
        "\n",
        "if a<b:\n",
        "   print(\"a is less than b\")\n",
        "else:\n",
        "     print(\"a is greater than b\")"
      ],
      "metadata": {
        "colab": {
          "base_uri": "https://localhost:8080/"
        },
        "id": "2FCnKrYszR3k",
        "outputId": "b07e273f-ccec-4231-c8d0-318426f3c130"
      },
      "execution_count": null,
      "outputs": [
        {
          "output_type": "stream",
          "name": "stdout",
          "text": [
            "a is greater than b\n"
          ]
        }
      ]
    },
    {
      "cell_type": "markdown",
      "source": [
        "**if-elif-else Statement**"
      ],
      "metadata": {
        "id": "tvWnNdGYez1o"
      }
    },
    {
      "cell_type": "code",
      "source": [
        "a = 10\n",
        "b = 10\n",
        "\n",
        "if a<b:\n",
        "   print(\"a is less than b\")\n",
        "elif a==b:\n",
        "     print(\"a is equal to b\")\n",
        "else:\n",
        "     print(\"a is greater than b\")"
      ],
      "metadata": {
        "colab": {
          "base_uri": "https://localhost:8080/"
        },
        "id": "3D4z1YqNzW6X",
        "outputId": "7c8dfe58-5f84-4808-c82f-b1ff8aba6e34"
      },
      "execution_count": null,
      "outputs": [
        {
          "output_type": "stream",
          "name": "stdout",
          "text": [
            "a is equal to b\n"
          ]
        }
      ]
    },
    {
      "cell_type": "markdown",
      "source": [
        "**Nested if Statement**"
      ],
      "metadata": {
        "id": "NKIbRpymf34r"
      }
    },
    {
      "cell_type": "code",
      "source": [
        "a = 10\n",
        "b = 20\n",
        "\n",
        "if a>5:\n",
        "   print(\"a is greater than 5\")\n",
        "   if b>5:\n",
        "      print(\"b is also greater than 5\")\n",
        "   else:\n",
        "      print(\"b is not greater than 5\")\n",
        "else:\n",
        "     print(\"a is not greater than 5\")"
      ],
      "metadata": {
        "colab": {
          "base_uri": "https://localhost:8080/"
        },
        "id": "zZInTdHNf-H0",
        "outputId": "674a2821-c34f-4452-becf-8d5580917b76"
      },
      "execution_count": 23,
      "outputs": [
        {
          "output_type": "stream",
          "name": "stdout",
          "text": [
            "a is greater than 5\n",
            "b is also greater than 5\n"
          ]
        }
      ]
    },
    {
      "cell_type": "markdown",
      "source": [
        "###7. Describe the different types of loops in Python and their use cases with examples?"
      ],
      "metadata": {
        "id": "PNxjjmKrg9CC"
      }
    },
    {
      "cell_type": "markdown",
      "source": [
        "Iterative/Looping statement are used to control the repetition in a program. It allows the programmer to repeat a specified block of code until a given condition is met.\n",
        "\n",
        "Python Language has following types of looping statements:-\n",
        "\n",
        "(i) for loop\n",
        "\n",
        "(ii) while loop"
      ],
      "metadata": {
        "id": "IHYutaGwkOf-"
      }
    },
    {
      "cell_type": "markdown",
      "source": [
        "**for loop:-** A for loop is a control flow statement in Python that allows you to iterate over a sequence of elements such as a list, tuple, or string.\n",
        "On each iteration, the loop variable in Python will take on the value of the next item in the sequence."
      ],
      "metadata": {
        "id": "TjRyRfcTlMJD"
      }
    },
    {
      "cell_type": "code",
      "source": [
        "num = [7, 6, 4, 9, 5, 3, 6, 5, 12]\n",
        "sum=0\n",
        "for val in num:\n",
        "  sum = sum + val\n",
        "print(\"The sum is\", sum)"
      ],
      "metadata": {
        "colab": {
          "base_uri": "https://localhost:8080/",
          "height": 0
        },
        "id": "rQtJai1VlR6V",
        "outputId": "e221d1e1-fda4-491d-b646-9e9c6bd8d5ad"
      },
      "execution_count": 16,
      "outputs": [
        {
          "output_type": "stream",
          "name": "stdout",
          "text": [
            "The sum is 57\n"
          ]
        }
      ]
    },
    {
      "cell_type": "markdown",
      "source": [
        "**while loop:-** In Python, a while loop is a control flow statement that allows you to execute a block of code repeatedly while a given condition is true.\n",
        "The condition is evaluated at the start of each loop iteration, and if it is true, the loop body is executed.\n",
        "The loop is terminated if the condition is false."
      ],
      "metadata": {
        "id": "BTAfRbVHn65h"
      }
    },
    {
      "cell_type": "code",
      "source": [
        "n=15\n",
        "sum=0\n",
        "i=1\n",
        "while i<=n:\n",
        "  sum=sum+i\n",
        "  i=i+1\n",
        "print(\"The sum is\",sum)"
      ],
      "metadata": {
        "colab": {
          "base_uri": "https://localhost:8080/",
          "height": 0
        },
        "id": "lX6V7KKRoMUF",
        "outputId": "534702f1-cd1e-4700-e2c5-d7b413857640"
      },
      "execution_count": 18,
      "outputs": [
        {
          "output_type": "stream",
          "name": "stdout",
          "text": [
            "The sum is 120\n"
          ]
        }
      ]
    }
  ]
}
